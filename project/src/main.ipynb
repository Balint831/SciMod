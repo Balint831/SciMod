{
 "cells": [
  {
   "cell_type": "code",
   "execution_count": 2,
   "metadata": {},
   "outputs": [],
   "source": [
    "import matplotlib.pyplot as plt\n",
    "from qubo_divided import solve_qubo_by_dividing\n",
    "\n",
    "\n",
    "import numpy as np\n",
    "\n",
    "import itertools\n",
    "\n",
    "def calculate_QUBO_explicitely(Q):\n",
    "    d = len(Q)\n",
    "\n",
    "    bitstrings = list(map(np.array, list(itertools.product([0, 1], repeat=d))))\n",
    "\n",
    "    values = []\n",
    "\n",
    "    for bitstring in bitstrings:\n",
    "        values.append(bitstring @ Q @ bitstring)\n",
    "\n",
    "    return min(values), bitstrings[np.argmin(values)]\n",
    "\n",
    "\n",
    "\n",
    "\n",
    "#2 * np.random.rand(d, d) - 1"
   ]
  },
  {
   "cell_type": "code",
   "execution_count": 3,
   "metadata": {},
   "outputs": [],
   "source": [
    "N = 23\n",
    "b = np.random.randint(-2000,2000,size=(N,N))\n",
    "b_symm = (b + b.T)/2\n"
   ]
  },
  {
   "cell_type": "code",
   "execution_count": 4,
   "metadata": {},
   "outputs": [],
   "source": [
    "#calculate_QUBO_explicitely(b)"
   ]
  },
  {
   "cell_type": "markdown",
   "metadata": {},
   "source": [
    "# "
   ]
  },
  {
   "cell_type": "markdown",
   "metadata": {},
   "source": [
    "# General symmteric matrix"
   ]
  },
  {
   "cell_type": "code",
   "execution_count": 5,
   "metadata": {},
   "outputs": [],
   "source": [
    "d = 3\n",
    "\n",
    "A, B, C, D, E, F = 5, 4, 2, 3, 1, 0\n",
    "\n",
    "\n",
    "Q = np.array([  [ A, B, C], \n",
    "                [ B, D, E],\n",
    "                [ C, E, F]])"
   ]
  },
  {
   "cell_type": "markdown",
   "metadata": {},
   "source": [
    "# HA-assignment for 4 teams"
   ]
  },
  {
   "cell_type": "code",
   "execution_count": 6,
   "metadata": {},
   "outputs": [],
   "source": [
    "Q = np.array(  [[ 0, 4,-2, 2, 4, 0],\n",
    "                [ 4,-4, 4, 4, 0,-4],\n",
    "                [-2, 4,-2, 0, 4,-2],\n",
    "                [ 2, 0, 0,-6, 4, 2],\n",
    "                [-4, 0, 4, 4,-4, 4],\n",
    "                [ 0,-4,-2, 4, 4, 0]]) \n",
    "\n",
    "d = 6"
   ]
  },
  {
   "cell_type": "code",
   "execution_count": 7,
   "metadata": {},
   "outputs": [
    {
     "name": "stdout",
     "output_type": "stream",
     "text": [
      "parity: 0\n"
     ]
    },
    {
     "ename": "KeyboardInterrupt",
     "evalue": "",
     "output_type": "error",
     "traceback": [
      "\u001b[0;31m---------------------------------------------------------------------------\u001b[0m",
      "\u001b[0;31mKeyboardInterrupt\u001b[0m                         Traceback (most recent call last)",
      "\u001b[1;32m/home/user/mnt/project/src/main.ipynb Cell 9'\u001b[0m in \u001b[0;36m<cell line: 1>\u001b[0;34m()\u001b[0m\n\u001b[0;32m----> <a href='vscode-notebook-cell://attached-container%2B7b22636f6e7461696e65724e616d65223a222f65616765725f72696465227d/home/user/mnt/project/src/main.ipynb#ch0000008vscode-remote?line=0'>1</a>\u001b[0m min_energy, min_bistring \u001b[39m=\u001b[39m solve_qubo_by_dividing(\n\u001b[1;32m      <a href='vscode-notebook-cell://attached-container%2B7b22636f6e7461696e65724e616d65223a222f65616765725f72696465227d/home/user/mnt/project/src/main.ipynb#ch0000008vscode-remote?line=1'>2</a>\u001b[0m     Q,\n\u001b[1;32m      <a href='vscode-notebook-cell://attached-container%2B7b22636f6e7461696e65724e616d65223a222f65616765725f72696465227d/home/user/mnt/project/src/main.ipynb#ch0000008vscode-remote?line=2'>3</a>\u001b[0m     learning_rate\u001b[39m=\u001b[39;49m\u001b[39m0.1\u001b[39;49m,\n\u001b[1;32m      <a href='vscode-notebook-cell://attached-container%2B7b22636f6e7461696e65724e616d65223a222f65616765725f72696465227d/home/user/mnt/project/src/main.ipynb#ch0000008vscode-remote?line=3'>4</a>\u001b[0m     shots\u001b[39m=\u001b[39;49m\u001b[39m500\u001b[39;49m,\n\u001b[1;32m      <a href='vscode-notebook-cell://attached-container%2B7b22636f6e7461696e65724e616d65223a222f65616765725f72696465227d/home/user/mnt/project/src/main.ipynb#ch0000008vscode-remote?line=4'>5</a>\u001b[0m     updates\u001b[39m=\u001b[39;49m\u001b[39m40\u001b[39;49m,\n\u001b[1;32m      <a href='vscode-notebook-cell://attached-container%2B7b22636f6e7461696e65724e616d65223a222f65616765725f72696465227d/home/user/mnt/project/src/main.ipynb#ch0000008vscode-remote?line=5'>6</a>\u001b[0m     d_per_computer\u001b[39m=\u001b[39;49md,\n\u001b[1;32m      <a href='vscode-notebook-cell://attached-container%2B7b22636f6e7461696e65724e616d65223a222f65616765725f72696465227d/home/user/mnt/project/src/main.ipynb#ch0000008vscode-remote?line=6'>7</a>\u001b[0m )\n\u001b[1;32m      <a href='vscode-notebook-cell://attached-container%2B7b22636f6e7461696e65724e616d65223a222f65616765725f72696465227d/home/user/mnt/project/src/main.ipynb#ch0000008vscode-remote?line=8'>9</a>\u001b[0m \u001b[39mprint\u001b[39m(Q)\n\u001b[1;32m     <a href='vscode-notebook-cell://attached-container%2B7b22636f6e7461696e65724e616d65223a222f65616765725f72696465227d/home/user/mnt/project/src/main.ipynb#ch0000008vscode-remote?line=9'>10</a>\u001b[0m \u001b[39m#print(\"Algo:\", min_energy, min_bistring)\u001b[39;00m\n",
      "File \u001b[0;32m/home/user/mnt/project/piquassoboost/qubo_divided.py:160\u001b[0m, in \u001b[0;36msolve_qubo_by_dividing\u001b[0;34m(matrix, learning_rate, shots, updates, d_per_computer)\u001b[0m\n\u001b[1;32m    <a href='file:///home/user/mnt/project/piquassoboost/qubo_divided.py?line=156'>157</a>\u001b[0m             min_energy \u001b[39m=\u001b[39m \u001b[39mmin\u001b[39m(energies)\n\u001b[1;32m    <a href='file:///home/user/mnt/project/piquassoboost/qubo_divided.py?line=157'>158</a>\u001b[0m             min_bistring \u001b[39m=\u001b[39m bitstrings[np\u001b[39m.\u001b[39margmin(energies)]\n\u001b[0;32m--> <a href='file:///home/user/mnt/project/piquassoboost/qubo_divided.py?line=159'>160</a>\u001b[0m         thetas \u001b[39m=\u001b[39m _update_thetas(thetas, matrix, config, map_to_bistring_with_parity)\n\u001b[1;32m    <a href='file:///home/user/mnt/project/piquassoboost/qubo_divided.py?line=161'>162</a>\u001b[0m \u001b[39mfrom\u001b[39;00m \u001b[39mmatplotlib\u001b[39;00m \u001b[39mimport\u001b[39;00m pyplot \u001b[39mas\u001b[39;00m plt\n\u001b[1;32m    <a href='file:///home/user/mnt/project/piquassoboost/qubo_divided.py?line=163'>164</a>\u001b[0m plt\u001b[39m.\u001b[39mplot(mean_energies[\u001b[39m0\u001b[39m], label\u001b[39m=\u001b[39m\u001b[39m\"\u001b[39m\u001b[39mparity: 0\u001b[39m\u001b[39m\"\u001b[39m)\n",
      "File \u001b[0;32m/home/user/mnt/project/piquassoboost/qubo_divided.py:83\u001b[0m, in \u001b[0;36m_update_thetas\u001b[0;34m(thetas, matrix, config, mapper)\u001b[0m\n\u001b[1;32m     <a href='file:///home/user/mnt/project/piquassoboost/qubo_divided.py?line=80'>81</a>\u001b[0m upshifted_thetas \u001b[39m=\u001b[39m np\u001b[39m.\u001b[39mcopy(thetas)\n\u001b[1;32m     <a href='file:///home/user/mnt/project/piquassoboost/qubo_divided.py?line=81'>82</a>\u001b[0m upshifted_thetas[j] \u001b[39m+\u001b[39m\u001b[39m=\u001b[39m np\u001b[39m.\u001b[39mpi \u001b[39m/\u001b[39m \u001b[39m2\u001b[39m\n\u001b[0;32m---> <a href='file:///home/user/mnt/project/piquassoboost/qubo_divided.py?line=82'>83</a>\u001b[0m upshifted_energy \u001b[39m=\u001b[39m _get_energy(upshifted_thetas, matrix, config, mapper\u001b[39m=\u001b[39;49mmapper)\n\u001b[1;32m     <a href='file:///home/user/mnt/project/piquassoboost/qubo_divided.py?line=84'>85</a>\u001b[0m downshifted_thetas \u001b[39m=\u001b[39m np\u001b[39m.\u001b[39mcopy(thetas)\n\u001b[1;32m     <a href='file:///home/user/mnt/project/piquassoboost/qubo_divided.py?line=85'>86</a>\u001b[0m downshifted_thetas[j] \u001b[39m-\u001b[39m\u001b[39m=\u001b[39m np\u001b[39m.\u001b[39mpi \u001b[39m/\u001b[39m \u001b[39m2\u001b[39m\n",
      "File \u001b[0;32m/home/user/mnt/project/piquassoboost/qubo_divided.py:70\u001b[0m, in \u001b[0;36m_get_energy\u001b[0;34m(thetas, matrix, config, mapper)\u001b[0m\n\u001b[1;32m     <a href='file:///home/user/mnt/project/piquassoboost/qubo_divided.py?line=63'>64</a>\u001b[0m \u001b[39mdef\u001b[39;00m \u001b[39m_get_energy\u001b[39m(\n\u001b[1;32m     <a href='file:///home/user/mnt/project/piquassoboost/qubo_divided.py?line=64'>65</a>\u001b[0m     thetas: List[\u001b[39mfloat\u001b[39m],\n\u001b[1;32m     <a href='file:///home/user/mnt/project/piquassoboost/qubo_divided.py?line=65'>66</a>\u001b[0m     matrix,\n\u001b[1;32m     <a href='file:///home/user/mnt/project/piquassoboost/qubo_divided.py?line=66'>67</a>\u001b[0m     config,\n\u001b[1;32m     <a href='file:///home/user/mnt/project/piquassoboost/qubo_divided.py?line=67'>68</a>\u001b[0m     mapper,\n\u001b[1;32m     <a href='file:///home/user/mnt/project/piquassoboost/qubo_divided.py?line=68'>69</a>\u001b[0m ) \u001b[39m-\u001b[39m\u001b[39m>\u001b[39m \u001b[39mfloat\u001b[39m:\n\u001b[0;32m---> <a href='file:///home/user/mnt/project/piquassoboost/qubo_divided.py?line=69'>70</a>\u001b[0m     samples \u001b[39m=\u001b[39m _get_samples(thetas, config)\n\u001b[1;32m     <a href='file:///home/user/mnt/project/piquassoboost/qubo_divided.py?line=70'>71</a>\u001b[0m     bitstrings \u001b[39m=\u001b[39m \u001b[39mlist\u001b[39m(\u001b[39mmap\u001b[39m(mapper, samples))\n\u001b[1;32m     <a href='file:///home/user/mnt/project/piquassoboost/qubo_divided.py?line=71'>72</a>\u001b[0m     energies \u001b[39m=\u001b[39m _calculate_energy_from_bitstrings(matrix, bitstrings)\n",
      "File \u001b[0;32m/home/user/mnt/project/piquassoboost/qubo_divided.py:53\u001b[0m, in \u001b[0;36m_get_samples\u001b[0;34m(thetas, config)\u001b[0m\n\u001b[1;32m     <a href='file:///home/user/mnt/project/piquassoboost/qubo_divided.py?line=48'>49</a>\u001b[0m                 pq\u001b[39m.\u001b[39mQ(element, element \u001b[39m+\u001b[39m \u001b[39m1\u001b[39m) \u001b[39m|\u001b[39m pq\u001b[39m.\u001b[39mBeamsplitter(\u001b[39mnext\u001b[39m(iterator), phi\u001b[39m=\u001b[39m\u001b[39m0\u001b[39m)\n\u001b[1;32m     <a href='file:///home/user/mnt/project/piquassoboost/qubo_divided.py?line=50'>51</a>\u001b[0m         pq\u001b[39m.\u001b[39mQ() \u001b[39m|\u001b[39m pq\u001b[39m.\u001b[39mSampling()\n\u001b[0;32m---> <a href='file:///home/user/mnt/project/piquassoboost/qubo_divided.py?line=52'>53</a>\u001b[0m     samples_in_round \u001b[39m=\u001b[39m simulator\u001b[39m.\u001b[39;49mexecute(program, config[\u001b[39m\"\u001b[39;49m\u001b[39mshots\u001b[39;49m\u001b[39m\"\u001b[39;49m])\u001b[39m.\u001b[39msamples\n\u001b[1;32m     <a href='file:///home/user/mnt/project/piquassoboost/qubo_divided.py?line=54'>55</a>\u001b[0m     samples \u001b[39m=\u001b[39m \u001b[39mlist\u001b[39m(\u001b[39mmap\u001b[39m(\u001b[39mlambda\u001b[39;00m x, y: \u001b[39mtuple\u001b[39m([\u001b[39m*\u001b[39mx, \u001b[39m*\u001b[39my]), samples, samples_in_round))\n\u001b[1;32m     <a href='file:///home/user/mnt/project/piquassoboost/qubo_divided.py?line=56'>57</a>\u001b[0m \u001b[39mreturn\u001b[39;00m samples\n",
      "File \u001b[0;32m~/miniconda3/lib/python3.9/site-packages/piquasso/api/simulator.py:250\u001b[0m, in \u001b[0;36mSimulator.execute\u001b[0;34m(self, program, shots, initial_state)\u001b[0m\n\u001b[1;32m    <a href='file:///root/miniconda3/lib/python3.9/site-packages/piquasso/api/simulator.py?line=228'>229</a>\u001b[0m \u001b[39m\"\"\"Executes the specified program.\u001b[39;00m\n\u001b[1;32m    <a href='file:///root/miniconda3/lib/python3.9/site-packages/piquasso/api/simulator.py?line=229'>230</a>\u001b[0m \n\u001b[1;32m    <a href='file:///root/miniconda3/lib/python3.9/site-packages/piquasso/api/simulator.py?line=230'>231</a>\u001b[0m \u001b[39mArgs:\u001b[39;00m\n\u001b[0;32m   (...)\u001b[0m\n\u001b[1;32m    <a href='file:///root/miniconda3/lib/python3.9/site-packages/piquasso/api/simulator.py?line=244'>245</a>\u001b[0m \u001b[39m        if any measurement is specified in `program`.\u001b[39;00m\n\u001b[1;32m    <a href='file:///root/miniconda3/lib/python3.9/site-packages/piquasso/api/simulator.py?line=245'>246</a>\u001b[0m \u001b[39m\"\"\"\u001b[39;00m\n\u001b[1;32m    <a href='file:///root/miniconda3/lib/python3.9/site-packages/piquasso/api/simulator.py?line=247'>248</a>\u001b[0m instructions: List[Instruction] \u001b[39m=\u001b[39m program\u001b[39m.\u001b[39minstructions\n\u001b[0;32m--> <a href='file:///root/miniconda3/lib/python3.9/site-packages/piquasso/api/simulator.py?line=249'>250</a>\u001b[0m \u001b[39mreturn\u001b[39;00m \u001b[39mself\u001b[39;49m\u001b[39m.\u001b[39;49mexecute_instructions(\n\u001b[1;32m    <a href='file:///root/miniconda3/lib/python3.9/site-packages/piquasso/api/simulator.py?line=250'>251</a>\u001b[0m     instructions, initial_state\u001b[39m=\u001b[39;49minitial_state, shots\u001b[39m=\u001b[39;49mshots\n\u001b[1;32m    <a href='file:///root/miniconda3/lib/python3.9/site-packages/piquasso/api/simulator.py?line=251'>252</a>\u001b[0m )\n",
      "File \u001b[0;32m~/miniconda3/lib/python3.9/site-packages/piquasso/api/simulator.py:222\u001b[0m, in \u001b[0;36mSimulator.execute_instructions\u001b[0;34m(self, instructions, initial_state, shots)\u001b[0m\n\u001b[1;32m    <a href='file:///root/miniconda3/lib/python3.9/site-packages/piquasso/api/simulator.py?line=217'>218</a>\u001b[0m         instruction\u001b[39m.\u001b[39m_autoscale()  \u001b[39m# type: ignore\u001b[39;00m\n\u001b[1;32m    <a href='file:///root/miniconda3/lib/python3.9/site-packages/piquasso/api/simulator.py?line=219'>220</a>\u001b[0m     calculation \u001b[39m=\u001b[39m \u001b[39mself\u001b[39m\u001b[39m.\u001b[39m_get_calculation(instruction)\n\u001b[0;32m--> <a href='file:///root/miniconda3/lib/python3.9/site-packages/piquasso/api/simulator.py?line=221'>222</a>\u001b[0m     result \u001b[39m=\u001b[39m calculation(result\u001b[39m.\u001b[39;49mstate, instruction, shots)\n\u001b[1;32m    <a href='file:///root/miniconda3/lib/python3.9/site-packages/piquasso/api/simulator.py?line=223'>224</a>\u001b[0m \u001b[39mreturn\u001b[39;00m result\n",
      "File \u001b[0;32m/home/user/mnt/project/piquassoboost/piquassoboost/sampling/calculations.py:62\u001b[0m, in \u001b[0;36msampling\u001b[0;34m(state, instruction, shots)\u001b[0m\n\u001b[1;32m     <a href='file:///home/user/mnt/project/piquassoboost/piquassoboost/sampling/calculations.py?line=56'>57</a>\u001b[0m simulation_strategy \u001b[39m=\u001b[39m GeneralizedCliffordsSimulationStrategy(\n\u001b[1;32m     <a href='file:///home/user/mnt/project/piquassoboost/piquassoboost/sampling/calculations.py?line=57'>58</a>\u001b[0m     interferometer, state\u001b[39m.\u001b[39m_config\u001b[39m.\u001b[39mseed_sequence\n\u001b[1;32m     <a href='file:///home/user/mnt/project/piquassoboost/piquassoboost/sampling/calculations.py?line=58'>59</a>\u001b[0m )\n\u001b[1;32m     <a href='file:///home/user/mnt/project/piquassoboost/piquassoboost/sampling/calculations.py?line=59'>60</a>\u001b[0m sampling_simulator \u001b[39m=\u001b[39m BosonSamplingSimulator(simulation_strategy)\n\u001b[0;32m---> <a href='file:///home/user/mnt/project/piquassoboost/piquassoboost/sampling/calculations.py?line=61'>62</a>\u001b[0m samples \u001b[39m=\u001b[39m sampling_simulator\u001b[39m.\u001b[39;49mget_classical_simulation_results(\n\u001b[1;32m     <a href='file:///home/user/mnt/project/piquassoboost/piquassoboost/sampling/calculations.py?line=62'>63</a>\u001b[0m     initial_state,\n\u001b[1;32m     <a href='file:///home/user/mnt/project/piquassoboost/piquassoboost/sampling/calculations.py?line=63'>64</a>\u001b[0m     samples_number\u001b[39m=\u001b[39;49mshots\n\u001b[1;32m     <a href='file:///home/user/mnt/project/piquassoboost/piquassoboost/sampling/calculations.py?line=64'>65</a>\u001b[0m )\n\u001b[1;32m     <a href='file:///home/user/mnt/project/piquassoboost/piquassoboost/sampling/calculations.py?line=66'>67</a>\u001b[0m \u001b[39mif\u001b[39;00m state\u001b[39m.\u001b[39mis_lossy:  \u001b[39m# Trim lossy state to initial size.\u001b[39;00m\n\u001b[1;32m     <a href='file:///home/user/mnt/project/piquassoboost/piquassoboost/sampling/calculations.py?line=67'>68</a>\u001b[0m     trimmed_samples \u001b[39m=\u001b[39m []\n",
      "File \u001b[0;32m/home/user/mnt/project/piquassoboost/piquassoboost/sampling/BosonSamplingSimulator.py:32\u001b[0m, in \u001b[0;36mBosonSamplingSimulator.get_classical_simulation_results\u001b[0;34m(self, input_state, samples_number)\u001b[0m\n\u001b[1;32m     <a href='file:///home/user/mnt/project/piquassoboost/piquassoboost/sampling/BosonSamplingSimulator.py?line=30'>31</a>\u001b[0m \u001b[39mdef\u001b[39;00m \u001b[39mget_classical_simulation_results\u001b[39m(\u001b[39mself\u001b[39m, input_state: ndarray, samples_number: \u001b[39mint\u001b[39m \u001b[39m=\u001b[39m \u001b[39m1\u001b[39m) \u001b[39m-\u001b[39m\u001b[39m>\u001b[39m List[ndarray]:\n\u001b[0;32m---> <a href='file:///home/user/mnt/project/piquassoboost/piquassoboost/sampling/BosonSamplingSimulator.py?line=31'>32</a>\u001b[0m     \u001b[39mreturn\u001b[39;00m \u001b[39mself\u001b[39;49m\u001b[39m.\u001b[39;49msimulation_strategy\u001b[39m.\u001b[39;49msimulate(input_state, samples_number)\n",
      "File \u001b[0;32m/home/user/mnt/project/piquassoboost/piquassoboost/sampling/simulation_strategies/GeneralizedCliffordsSimulationStrategy.py:36\u001b[0m, in \u001b[0;36mGeneralizedCliffordsSimulationStrategy.simulate\u001b[0;34m(self, input_state, samples_number)\u001b[0m\n\u001b[1;32m     <a href='file:///home/user/mnt/project/piquassoboost/piquassoboost/sampling/simulation_strategies/GeneralizedCliffordsSimulationStrategy.py?line=28'>29</a>\u001b[0m \u001b[39mdef\u001b[39;00m \u001b[39msimulate\u001b[39m(\u001b[39mself\u001b[39m, input_state, samples_number: \u001b[39mint\u001b[39m \u001b[39m=\u001b[39m \u001b[39m1\u001b[39m):\n\u001b[1;32m     <a href='file:///home/user/mnt/project/piquassoboost/piquassoboost/sampling/simulation_strategies/GeneralizedCliffordsSimulationStrategy.py?line=29'>30</a>\u001b[0m     \u001b[39m\"\"\"\u001b[39;00m\n\u001b[1;32m     <a href='file:///home/user/mnt/project/piquassoboost/piquassoboost/sampling/simulation_strategies/GeneralizedCliffordsSimulationStrategy.py?line=30'>31</a>\u001b[0m \u001b[39m        Returns sample from linear optics experiments given output state.\u001b[39;00m\n\u001b[1;32m     <a href='file:///home/user/mnt/project/piquassoboost/piquassoboost/sampling/simulation_strategies/GeneralizedCliffordsSimulationStrategy.py?line=31'>32</a>\u001b[0m \u001b[39m        :param input_state: Input state in particle basis.\u001b[39;00m\n\u001b[1;32m     <a href='file:///home/user/mnt/project/piquassoboost/piquassoboost/sampling/simulation_strategies/GeneralizedCliffordsSimulationStrategy.py?line=32'>33</a>\u001b[0m \u001b[39m        :return: A resultant state after traversing through interferometer.\u001b[39;00m\n\u001b[1;32m     <a href='file:///home/user/mnt/project/piquassoboost/piquassoboost/sampling/simulation_strategies/GeneralizedCliffordsSimulationStrategy.py?line=33'>34</a>\u001b[0m \u001b[39m    \"\"\"\u001b[39;00m\n\u001b[0;32m---> <a href='file:///home/user/mnt/project/piquassoboost/piquassoboost/sampling/simulation_strategies/GeneralizedCliffordsSimulationStrategy.py?line=35'>36</a>\u001b[0m     \u001b[39mreturn\u001b[39;00m \u001b[39msuper\u001b[39;49m()\u001b[39m.\u001b[39;49msimulate(input_state, samples_number)\n",
      "\u001b[0;31mKeyboardInterrupt\u001b[0m: "
     ]
    }
   ],
   "source": [
    "\n",
    "\n",
    "min_energy, min_bistring = solve_qubo_by_dividing(\n",
    "    Q,\n",
    "    learning_rate=0.1,\n",
    "    shots=500,\n",
    "    updates=40,\n",
    "    d_per_computer=d,\n",
    ")\n",
    "\n",
    "print(Q)\n",
    "#print(\"Algo:\", min_energy, min_bistring)\n",
    "\n",
    "\n",
    "\n",
    "\n",
    "\n",
    "print(\"Exact solution:\", calculate_QUBO_explicitely(Q))"
   ]
  },
  {
   "cell_type": "code",
   "execution_count": 8,
   "metadata": {},
   "outputs": [],
   "source": [
    "d = 6\n",
    "\n",
    "bitstrings = list(map(np.array, list(itertools.product([0, 1], repeat=d))))\n",
    "\n",
    "values = []\n",
    "\n",
    "for bitstring in bitstrings:\n",
    "    values.append(bitstring @ Q @ bitstring)\n"
   ]
  },
  {
   "cell_type": "code",
   "execution_count": 9,
   "metadata": {},
   "outputs": [
    {
     "name": "stdout",
     "output_type": "stream",
     "text": [
      "[array([0, 1, 0, 0, 0, 1])]\n",
      "[-12]\n"
     ]
    }
   ],
   "source": [
    "print( [ bitstrings[idx] for idx in np.where( values == min(values) )[0] ])\n",
    "print( [ values[idx] for idx in np.where( values == min(values) )[0] ])"
   ]
  },
  {
   "cell_type": "code",
   "execution_count": 10,
   "metadata": {},
   "outputs": [],
   "source": [
    "z = np.array([1,0,0,1,0,0])"
   ]
  },
  {
   "cell_type": "code",
   "execution_count": 11,
   "metadata": {},
   "outputs": [],
   "source": [
    "def setup_labels(z, num_teams):\n",
    "    '''\n",
    "    create dict of team pair - z value eg. { \"12\" : z_1, \"13\" : z_2 ...}\n",
    "\n",
    "    z - iterable: \n",
    "    num_teams - int: \n",
    "    '''\n",
    "    \n",
    "    combos = []\n",
    "\n",
    "    for i in range(0, num_teams - 1 ):\n",
    "        for j in range(i, num_teams):\n",
    "            if i != j:\n",
    "                combos.append( str(i) + str(j) )\n",
    "    return dict( zip(combos, z ) )"
   ]
  },
  {
   "cell_type": "code",
   "execution_count": 12,
   "metadata": {},
   "outputs": [
    {
     "data": {
      "text/plain": [
       "{'01': 1, '02': 0, '03': 0, '12': 1, '13': 0, '23': 0}"
      ]
     },
     "execution_count": 12,
     "metadata": {},
     "output_type": "execute_result"
    }
   ],
   "source": [
    "setup_labels(z, 4)      "
   ]
  },
  {
   "cell_type": "code",
   "execution_count": 13,
   "metadata": {},
   "outputs": [],
   "source": [
    "from copy import deepcopy\n",
    "\n",
    "def ha_assign(timetable, z):\n",
    "\n",
    "    assert isinstance(timetable,np.ndarray), \"Timetable must be of type np.ndarray\"\n",
    "\n",
    "    ha_assignment = (np.ones_like(timetable) * -1)   # -1 for debug\n",
    "    num_teams = timetable.shape[0]\n",
    "    num_games = 2 * (num_teams-1)\n",
    "    \n",
    "    assert num_teams * (num_teams  - 1)/2 == len(z), \"z vector not compatible with number of teams\"\n",
    "    z_labeled = setup_labels(z, num_teams)      \n",
    "    \n",
    "    for t_row in range( num_teams ):\n",
    "        for slot in range( num_games ):\n",
    "            team_1 = deepcopy(t_row)\n",
    "            team_2 = timetable[t_row, slot]\n",
    "\n",
    "            #print(team_1, team_2)\n",
    "            if team_1 > team_2:\n",
    "                team_1, team_2 = team_2, team_1     # slot is in the second half of the tournament team1 is greater than team2, switch them\n",
    "                label = str(team_1) + str(team_2)   # create label for lookup\n",
    "                #print(label + \"if\")\n",
    "                if slot >= (num_teams - 1):       # slot is in the second half of the tournament\n",
    "                    a = z_labeled[ label ]      # 'a' is the 1 or 0 home assignment value,      y_t',s' = z\n",
    "                \n",
    "                else:                           # slot is in the first half of the tournament\n",
    "                    a = 1 - z_labeled[ label ]                                                # y_t',s  = 1-z\n",
    "                \n",
    "\n",
    "            else:                                   # the order of teams matches the label\n",
    "                label = str(team_1) + str(team_2)\n",
    "                #print(label + \"else\")\n",
    "                \n",
    "                if slot >= (num_teams - 1):       # slot is in the second half of the tournament\n",
    "                    a =  1 - z_labeled[ label ]                                                # y_t,s' = 1-z\n",
    "                \n",
    "                else:                           # slot in the first half of the tournament\n",
    "                    a = z_labeled[ label ]                                                    # y_t,s  = z\n",
    "                \n",
    "            \n",
    "            ha_assignment[t_row, slot] = a #!\n",
    "\n",
    "    return ha_assignment"
   ]
  },
  {
   "cell_type": "code",
   "execution_count": 15,
   "metadata": {},
   "outputs": [
    {
     "name": "stdout",
     "output_type": "stream",
     "text": [
      "[[0 0 0 1 1 1]\n",
      " [1 0 0 0 1 1]\n",
      " [0 1 1 1 0 0]\n",
      " [1 1 1 0 0 0]] \n",
      "\n",
      " [[1 2 3 1 2 3]\n",
      " [0 3 2 0 3 2]\n",
      " [3 0 1 3 0 1]\n",
      " [2 1 0 2 1 0]]\n"
     ]
    }
   ],
   "source": [
    "timetable = np.array([[2,3,4,2,3,4],\n",
    "                      [1,4,3,1,4,3],\n",
    "                      [4,1,2,4,1,2],\n",
    "                      [3,2,1,3,2,1]])\n",
    "\n",
    "ha = ha_assign(timetable - 1 , np.array([0,0,0,0,0,0]))\n",
    "print(ha, \"\\n\\n\",timetable -1)"
   ]
  },
  {
   "cell_type": "code",
   "execution_count": 16,
   "metadata": {},
   "outputs": [],
   "source": [
    "def count_breaks(timetable, z):\n",
    "    ha = ha_assign(timetable, z)\n",
    "\n",
    "    breaks = 0\n",
    "    for t_row in range(ha.shape[0]):\n",
    "        for slot in range(ha.shape[1]-1):\n",
    "            breaks += ha[t_row, slot] * ha[t_row, slot + 1] + (1 - ha[t_row,slot]) * ( 1 - ha[t_row, slot + 1])\n",
    "\n",
    "    return breaks"
   ]
  },
  {
   "cell_type": "code",
   "execution_count": 17,
   "metadata": {},
   "outputs": [],
   "source": [
    "\n",
    "z = bitstrings[17]\n",
    "\n",
    "#count_breaks(tt, )"
   ]
  },
  {
   "cell_type": "code",
   "execution_count": 18,
   "metadata": {},
   "outputs": [
    {
     "data": {
      "text/plain": [
       "'tt2 = np.array([[2,3,4,5,6,2,3,4,5,6],\\n                 [1,5,6,4,3,1,5,6,4,3],\\n                 [4,1,5,6,2,4,1,5,6,2],\\n                 [3,6,1,2,5,3,6,1,2,5],\\n                 [6,2,3,1,4,6,2,3,1,4],\\n                 [5,4,2,3,1,5,4,2,3,1]])\\n\\nha_assign(tt2, np.ones(15))'"
      ]
     },
     "execution_count": 18,
     "metadata": {},
     "output_type": "execute_result"
    }
   ],
   "source": [
    "\"\"\"tt2 = np.array([[2,3,4,5,6,2,3,4,5,6],\n",
    "                 [1,5,6,4,3,1,5,6,4,3],\n",
    "                 [4,1,5,6,2,4,1,5,6,2],\n",
    "                 [3,6,1,2,5,3,6,1,2,5],\n",
    "                 [6,2,3,1,4,6,2,3,1,4],\n",
    "                 [5,4,2,3,1,5,4,2,3,1]])\n",
    "\n",
    "ha_assign(tt2, np.ones(15))\"\"\""
   ]
  },
  {
   "cell_type": "code",
   "execution_count": 19,
   "metadata": {},
   "outputs": [],
   "source": [
    "breaks_list = []\n",
    "for  z in bitstrings:\n",
    "    breaks_list.append( count_breaks(timetable -1 , z) )\n",
    "\n"
   ]
  },
  {
   "cell_type": "code",
   "execution_count": 111,
   "metadata": {},
   "outputs": [
    {
     "ename": "KeyError",
     "evalue": "'10'",
     "output_type": "error",
     "traceback": [
      "\u001b[0;31m---------------------------------------------------------------------------\u001b[0m",
      "\u001b[0;31mKeyError\u001b[0m                                  Traceback (most recent call last)",
      "\u001b[1;32m/home/user/mnt/project/src/main.ipynb Cell 16'\u001b[0m in \u001b[0;36m<cell line: 1>\u001b[0;34m()\u001b[0m\n\u001b[0;32m----> <a href='vscode-notebook-cell://attached-container%2B7b22636f6e7461696e65724e616d65223a222f65616765725f72696465227d/home/user/mnt/project/src/main.ipynb#ch0000017vscode-remote?line=0'>1</a>\u001b[0m ha \u001b[39m=\u001b[39m ha_assign(timetable \u001b[39m-\u001b[39;49m\u001b[39m1\u001b[39;49m , np\u001b[39m.\u001b[39;49marray([\u001b[39m1\u001b[39;49m,\u001b[39m0\u001b[39;49m,\u001b[39m0\u001b[39;49m,\u001b[39m1\u001b[39;49m,\u001b[39m0\u001b[39;49m,\u001b[39m0\u001b[39;49m]))\n\u001b[1;32m      <a href='vscode-notebook-cell://attached-container%2B7b22636f6e7461696e65724e616d65223a222f65616765725f72696465227d/home/user/mnt/project/src/main.ipynb#ch0000017vscode-remote?line=1'>2</a>\u001b[0m ha\n",
      "\u001b[1;32m/home/user/mnt/project/src/main.ipynb Cell 11'\u001b[0m in \u001b[0;36mha_assign\u001b[0;34m(timetable, z)\u001b[0m\n\u001b[1;32m     <a href='vscode-notebook-cell://attached-container%2B7b22636f6e7461696e65724e616d65223a222f65616765725f72696465227d/home/user/mnt/project/src/main.ipynb#ch0000012vscode-remote?line=25'>26</a>\u001b[0m         a \u001b[39m=\u001b[39m z_labeled[ label ]      \u001b[39m# 'a' is the 1 or 0 home assignment value,      y_t',s' = z\u001b[39;00m\n\u001b[1;32m     <a href='vscode-notebook-cell://attached-container%2B7b22636f6e7461696e65724e616d65223a222f65616765725f72696465227d/home/user/mnt/project/src/main.ipynb#ch0000012vscode-remote?line=27'>28</a>\u001b[0m     \u001b[39melse\u001b[39;00m:                           \u001b[39m# slot is in the first half of the tournament\u001b[39;00m\n\u001b[0;32m---> <a href='vscode-notebook-cell://attached-container%2B7b22636f6e7461696e65724e616d65223a222f65616765725f72696465227d/home/user/mnt/project/src/main.ipynb#ch0000012vscode-remote?line=28'>29</a>\u001b[0m         a \u001b[39m=\u001b[39m \u001b[39m1\u001b[39m \u001b[39m-\u001b[39m z_labeled[ label ]                                                \u001b[39m# y_t',s  = 1-z\u001b[39;00m\n\u001b[1;32m     <a href='vscode-notebook-cell://attached-container%2B7b22636f6e7461696e65724e616d65223a222f65616765725f72696465227d/home/user/mnt/project/src/main.ipynb#ch0000012vscode-remote?line=29'>30</a>\u001b[0m     a \u001b[39m=\u001b[39m \u001b[39m-\u001b[39m \u001b[39m2\u001b[39m\n\u001b[1;32m     <a href='vscode-notebook-cell://attached-container%2B7b22636f6e7461696e65724e616d65223a222f65616765725f72696465227d/home/user/mnt/project/src/main.ipynb#ch0000012vscode-remote?line=31'>32</a>\u001b[0m \u001b[39melse\u001b[39;00m:                                   \u001b[39m# the order of teams matches the label\u001b[39;00m\n",
      "\u001b[0;31mKeyError\u001b[0m: '10'"
     ]
    }
   ],
   "source": []
  },
  {
   "cell_type": "code",
   "execution_count": 35,
   "metadata": {},
   "outputs": [
    {
     "data": {
      "text/plain": [
       "[<matplotlib.lines.Line2D at 0x7feae4b8e460>]"
      ]
     },
     "execution_count": 35,
     "metadata": {},
     "output_type": "execute_result"
    },
    {
     "data": {
      "image/png": "[encoded data removed]",
      "text/plain": [
       "<Figure size 576x432 with 1 Axes>"
      ]
     },
     "metadata": {
      "needs_background": "light"
     },
     "output_type": "display_data"
    }
   ],
   "source": [
    " \n",
    "\n",
    "plt.figure(figsize=[8,6])\n",
    "plt.grid()\n",
    "plt.scatter( breaks_list, np.array(values) + 0.3 * np.random.normal(size = np.array(values).shape), alpha = .4, color = \"black\")\n",
    "plt.xlabel(\"Number of breaks\", size = 14)\n",
    "plt.ylabel(\"$<E>$\", size = 14)\n",
    "\n",
    "popt = np.polyfit(breaks_list, values, 1)\n",
    "_t = np.linspace(min(breaks_list) - 1, max(breaks_list) + 1, 100)\n",
    "plt.plot(_t, popt[0] * _t + popt[1], color = \"tab:red\")\n",
    "#plt.savefig(\"/home/user/mnt/project/src/energy-breaks2.png\", dpi = 200)    "
   ]
  },
  {
   "cell_type": "code",
   "execution_count": 31,
   "metadata": {},
   "outputs": [
    {
     "data": {
      "text/html": [
       "<div>\n",
       "<style scoped>\n",
       "    .dataframe tbody tr th:only-of-type {\n",
       "        vertical-align: middle;\n",
       "    }\n",
       "\n",
       "    .dataframe tbody tr th {\n",
       "        vertical-align: top;\n",
       "    }\n",
       "\n",
       "    .dataframe thead th {\n",
       "        text-align: right;\n",
       "    }\n",
       "</style>\n",
       "<table border=\"1\" class=\"dataframe\">\n",
       "  <thead>\n",
       "    <tr style=\"text-align: right;\">\n",
       "      <th></th>\n",
       "      <th>breaks_list</th>\n",
       "      <th>energy</th>\n",
       "      <th>bitstrings</th>\n",
       "    </tr>\n",
       "  </thead>\n",
       "  <tbody>\n",
       "    <tr>\n",
       "      <th>0</th>\n",
       "      <td>14</td>\n",
       "      <td>0</td>\n",
       "      <td>[0, 0, 0, 0, 0, 0]</td>\n",
       "    </tr>\n",
       "    <tr>\n",
       "      <th>1</th>\n",
       "      <td>14</td>\n",
       "      <td>0</td>\n",
       "      <td>[0, 0, 0, 0, 0, 1]</td>\n",
       "    </tr>\n",
       "    <tr>\n",
       "      <th>2</th>\n",
       "      <td>10</td>\n",
       "      <td>-4</td>\n",
       "      <td>[0, 0, 0, 0, 1, 0]</td>\n",
       "    </tr>\n",
       "    <tr>\n",
       "      <th>3</th>\n",
       "      <td>14</td>\n",
       "      <td>4</td>\n",
       "      <td>[0, 0, 0, 0, 1, 1]</td>\n",
       "    </tr>\n",
       "    <tr>\n",
       "      <th>4</th>\n",
       "      <td>8</td>\n",
       "      <td>-6</td>\n",
       "      <td>[0, 0, 0, 1, 0, 0]</td>\n",
       "    </tr>\n",
       "    <tr>\n",
       "      <th>...</th>\n",
       "      <td>...</td>\n",
       "      <td>...</td>\n",
       "      <td>...</td>\n",
       "    </tr>\n",
       "    <tr>\n",
       "      <th>59</th>\n",
       "      <td>8</td>\n",
       "      <td>6</td>\n",
       "      <td>[1, 1, 1, 0, 1, 1]</td>\n",
       "    </tr>\n",
       "    <tr>\n",
       "      <th>60</th>\n",
       "      <td>14</td>\n",
       "      <td>8</td>\n",
       "      <td>[1, 1, 1, 1, 0, 0]</td>\n",
       "    </tr>\n",
       "    <tr>\n",
       "      <th>61</th>\n",
       "      <td>10</td>\n",
       "      <td>2</td>\n",
       "      <td>[1, 1, 1, 1, 0, 1]</td>\n",
       "    </tr>\n",
       "    <tr>\n",
       "      <th>62</th>\n",
       "      <td>14</td>\n",
       "      <td>20</td>\n",
       "      <td>[1, 1, 1, 1, 1, 0]</td>\n",
       "    </tr>\n",
       "    <tr>\n",
       "      <th>63</th>\n",
       "      <td>14</td>\n",
       "      <td>22</td>\n",
       "      <td>[1, 1, 1, 1, 1, 1]</td>\n",
       "    </tr>\n",
       "  </tbody>\n",
       "</table>\n",
       "<p>64 rows × 3 columns</p>\n",
       "</div>"
      ],
      "text/plain": [
       "    breaks_list  energy          bitstrings\n",
       "0            14       0  [0, 0, 0, 0, 0, 0]\n",
       "1            14       0  [0, 0, 0, 0, 0, 1]\n",
       "2            10      -4  [0, 0, 0, 0, 1, 0]\n",
       "3            14       4  [0, 0, 0, 0, 1, 1]\n",
       "4             8      -6  [0, 0, 0, 1, 0, 0]\n",
       "..          ...     ...                 ...\n",
       "59            8       6  [1, 1, 1, 0, 1, 1]\n",
       "60           14       8  [1, 1, 1, 1, 0, 0]\n",
       "61           10       2  [1, 1, 1, 1, 0, 1]\n",
       "62           14      20  [1, 1, 1, 1, 1, 0]\n",
       "63           14      22  [1, 1, 1, 1, 1, 1]\n",
       "\n",
       "[64 rows x 3 columns]"
      ]
     },
     "execution_count": 31,
     "metadata": {},
     "output_type": "execute_result"
    }
   ],
   "source": [
    "import pandas as pd\n",
    "df = pd.DataFrame()\n",
    "df[\"breaks_list\"] = breaks_list\n",
    "df[\"energy\"] = values\n",
    "df[\"bitstrings\"] = bitstrings\n",
    "df"
   ]
  },
  {
   "cell_type": "code",
   "execution_count": 29,
   "metadata": {},
   "outputs": [
    {
     "data": {
      "application/vnd.plotly.v1+json": {
       "config": {
        "plotlyServerURL": "https://plot.ly"
       },
       "data": [
        {
         "customdata": [
          [
           [
            0,
            0,
            0,
            0,
            0,
            0
           ]
          ],
          [
           [
            0,
            0,
            0,
            0,
            0,
            1
           ]
          ],
          [
           [
            0,
            0,
            0,
            0,
            1,
            0
           ]
          ],
          [
           [
            0,
            0,
            0,
            0,
            1,
            1
           ]
          ],
          [
           [
            0,
            0,
            0,
            1,
            0,
            0
           ]
          ],
          [
           [
            0,
            0,
            0,
            1,
            0,
            1
           ]
          ],
          [
           [
            0,
            0,
            0,
            1,
            1,
            0
           ]
          ],
          [
           [
            0,
            0,
            0,
            1,
            1,
            1
           ]
          ],
          [
           [
            0,
            0,
            1,
            0,
            0,
            0
           ]
          ],
          [
           [
            0,
            0,
            1,
            0,
            0,
            1
           ]
          ],
          [
           [
            0,
            0,
            1,
            0,
            1,
            0
           ]
          ],
          [
           [
            0,
            0,
            1,
            0,
            1,
            1
           ]
          ],
          [
           [
            0,
            0,
            1,
            1,
            0,
            0
           ]
          ],
          [
           [
            0,
            0,
            1,
            1,
            0,
            1
           ]
          ],
          [
           [
            0,
            0,
            1,
            1,
            1,
            0
           ]
          ],
          [
           [
            0,
            0,
            1,
            1,
            1,
            1
           ]
          ],
          [
           [
            0,
            1,
            0,
            0,
            0,
            0
           ]
          ],
          [
           [
            0,
            1,
            0,
            0,
            0,
            1
           ]
          ],
          [
           [
            0,
            1,
            0,
            0,
            1,
            0
           ]
          ],
          [
           [
            0,
            1,
            0,
            0,
            1,
            1
           ]
          ],
          [
           [
            0,
            1,
            0,
            1,
            0,
            0
           ]
          ],
          [
           [
            0,
            1,
            0,
            1,
            0,
            1
           ]
          ],
          [
           [
            0,
            1,
            0,
            1,
            1,
            0
           ]
          ],
          [
           [
            0,
            1,
            0,
            1,
            1,
            1
           ]
          ],
          [
           [
            0,
            1,
            1,
            0,
            0,
            0
           ]
          ],
          [
           [
            0,
            1,
            1,
            0,
            0,
            1
           ]
          ],
          [
           [
            0,
            1,
            1,
            0,
            1,
            0
           ]
          ],
          [
           [
            0,
            1,
            1,
            0,
            1,
            1
           ]
          ],
          [
           [
            0,
            1,
            1,
            1,
            0,
            0
           ]
          ],
          [
           [
            0,
            1,
            1,
            1,
            0,
            1
           ]
          ],
          [
           [
            0,
            1,
            1,
            1,
            1,
            0
           ]
          ],
          [
           [
            0,
            1,
            1,
            1,
            1,
            1
           ]
          ],
          [
           [
            1,
            0,
            0,
            0,
            0,
            0
           ]
          ],
          [
           [
            1,
            0,
            0,
            0,
            0,
            1
           ]
          ],
          [
           [
            1,
            0,
            0,
            0,
            1,
            0
           ]
          ],
          [
           [
            1,
            0,
            0,
            0,
            1,
            1
           ]
          ],
          [
           [
            1,
            0,
            0,
            1,
            0,
            0
           ]
          ],
          [
           [
            1,
            0,
            0,
            1,
            0,
            1
           ]
          ],
          [
           [
            1,
            0,
            0,
            1,
            1,
            0
           ]
          ],
          [
           [
            1,
            0,
            0,
            1,
            1,
            1
           ]
          ],
          [
           [
            1,
            0,
            1,
            0,
            0,
            0
           ]
          ],
          [
           [
            1,
            0,
            1,
            0,
            0,
            1
           ]
          ],
          [
           [
            1,
            0,
            1,
            0,
            1,
            0
           ]
          ],
          [
           [
            1,
            0,
            1,
            0,
            1,
            1
           ]
          ],
          [
           [
            1,
            0,
            1,
            1,
            0,
            0
           ]
          ],
          [
           [
            1,
            0,
            1,
            1,
            0,
            1
           ]
          ],
          [
           [
            1,
            0,
            1,
            1,
            1,
            0
           ]
          ],
          [
           [
            1,
            0,
            1,
            1,
            1,
            1
           ]
          ],
          [
           [
            1,
            1,
            0,
            0,
            0,
            0
           ]
          ],
          [
           [
            1,
            1,
            0,
            0,
            0,
            1
           ]
          ],
          [
           [
            1,
            1,
            0,
            0,
            1,
            0
           ]
          ],
          [
           [
            1,
            1,
            0,
            0,
            1,
            1
           ]
          ],
          [
           [
            1,
            1,
            0,
            1,
            0,
            0
           ]
          ],
          [
           [
            1,
            1,
            0,
            1,
            0,
            1
           ]
          ],
          [
           [
            1,
            1,
            0,
            1,
            1,
            0
           ]
          ],
          [
           [
            1,
            1,
            0,
            1,
            1,
            1
           ]
          ],
          [
           [
            1,
            1,
            1,
            0,
            0,
            0
           ]
          ],
          [
           [
            1,
            1,
            1,
            0,
            0,
            1
           ]
          ],
          [
           [
            1,
            1,
            1,
            0,
            1,
            0
           ]
          ],
          [
           [
            1,
            1,
            1,
            0,
            1,
            1
           ]
          ],
          [
           [
            1,
            1,
            1,
            1,
            0,
            0
           ]
          ],
          [
           [
            1,
            1,
            1,
            1,
            0,
            1
           ]
          ],
          [
           [
            1,
            1,
            1,
            1,
            1,
            0
           ]
          ],
          [
           [
            1,
            1,
            1,
            1,
            1,
            1
           ]
          ]
         ],
         "hovertemplate": "x=%{x}<br>y=%{y}<br>hover_data_0=%{customdata[0]}<extra></extra>",
         "legendgroup": "",
         "marker": {
          "color": "#636efa",
          "symbol": "circle"
         },
         "mode": "markers",
         "name": "",
         "orientation": "v",
         "showlegend": false,
         "type": "scatter",
         "x": [
          14,
          14,
          10,
          14,
          8,
          10,
          8,
          14,
          12,
          10,
          12,
          14,
          6,
          6,
          10,
          14,
          10,
          6,
          6,
          6,
          8,
          6,
          8,
          10,
          12,
          6,
          12,
          10,
          10,
          6,
          14,
          14,
          14,
          14,
          6,
          10,
          10,
          12,
          6,
          12,
          10,
          8,
          6,
          8,
          6,
          6,
          6,
          10,
          14,
          10,
          6,
          6,
          14,
          12,
          10,
          12,
          14,
          8,
          10,
          8,
          14,
          10,
          14,
          14
         ],
         "xaxis": "x",
         "y": [
          -0.01620226444085061,
          0.2322065648536661,
          -3.9695995267559048,
          4.083355452148663,
          -5.842959829377429,
          0.4493023896905363,
          -1.740594036608991,
          11.761463399364631,
          -2.5060762511548416,
          -5.935240332684715,
          1.6856358100949027,
          5.654441944080381,
          -8.04960785037932,
          -6.005939263219803,
          4.524282758506401,
          13.969405408091536,
          -3.7106982331075273,
          -11.722814834959786,
          -8.166714286427943,
          -8.037115244125989,
          -5.5294558223183925,
          -7.921510228790941,
          -2.5361584292320383,
          4.3850711203734996,
          1.646315407150961,
          -10.359268996847037,
          5.963284792907124,
          2.261186068431659,
          0.1870892065086547,
          -5.865559296771337,
          11.759714476940184,
          13.577319168150117,
          0.11417970498898797,
          0.13587069424035586,
          -3.643923416207807,
          3.976832028781603,
          -1.8746915599450082,
          4.091390628673064,
          2.185222391525609,
          15.190349483898547,
          -5.883680746061855,
          -9.84833319671207,
          -1.9501191681348364,
          2.020299017665083,
          -8.166301626251071,
          -6.044030691466911,
          4.18011136554912,
          13.655789279968593,
          3.767567119795765,
          -4.167739644030362,
          -0.1341979943877143,
          0.02255836956399117,
          6.307771741229971,
          4.430132080141887,
          10.220657689569776,
          15.803477237866046,
          5.694219294200874,
          -5.350638812950911,
          10.063621676375334,
          5.861060106089002,
          7.350125928251939,
          1.9041551287127985,
          19.85151103542358,
          21.977031443142106
         ],
         "yaxis": "y"
        }
       ],
       "layout": {
        "legend": {
         "tracegroupgap": 0
        },
        "margin": {
         "t": 60
        },
        "template": {
         "data": {
          "bar": [
           {
            "error_x": {
             "color": "#2a3f5f"
            },
            "error_y": {
             "color": "#2a3f5f"
            },
            "marker": {
             "line": {
              "color": "#E5ECF6",
              "width": 0.5
             },
             "pattern": {
              "fillmode": "overlay",
              "size": 10,
              "solidity": 0.2
             }
            },
            "type": "bar"
           }
          ],
          "barpolar": [
           {
            "marker": {
             "line": {
              "color": "#E5ECF6",
              "width": 0.5
             },
             "pattern": {
              "fillmode": "overlay",
              "size": 10,
              "solidity": 0.2
             }
            },
            "type": "barpolar"
           }
          ],
          "carpet": [
           {
            "aaxis": {
             "endlinecolor": "#2a3f5f",
             "gridcolor": "white",
             "linecolor": "white",
             "minorgridcolor": "white",
             "startlinecolor": "#2a3f5f"
            },
            "baxis": {
             "endlinecolor": "#2a3f5f",
             "gridcolor": "white",
             "linecolor": "white",
             "minorgridcolor": "white",
             "startlinecolor": "#2a3f5f"
            },
            "type": "carpet"
           }
          ],
          "choropleth": [
           {
            "colorbar": {
             "outlinewidth": 0,
             "ticks": ""
            },
            "type": "choropleth"
           }
          ],
          "contour": [
           {
            "colorbar": {
             "outlinewidth": 0,
             "ticks": ""
            },
            "colorscale": [
             [
              0,
              "#0d0887"
             ],
             [
              0.1111111111111111,
              "#46039f"
             ],
             [
              0.2222222222222222,
              "#7201a8"
             ],
             [
              0.3333333333333333,
              "#9c179e"
             ],
             [
              0.4444444444444444,
              "#bd3786"
             ],
             [
              0.5555555555555556,
              "#d8576b"
             ],
             [
              0.6666666666666666,
              "#ed7953"
             ],
             [
              0.7777777777777778,
              "#fb9f3a"
             ],
             [
              0.8888888888888888,
              "#fdca26"
             ],
             [
              1,
              "#f0f921"
             ]
            ],
            "type": "contour"
           }
          ],
          "contourcarpet": [
           {
            "colorbar": {
             "outlinewidth": 0,
             "ticks": ""
            },
            "type": "contourcarpet"
           }
          ],
          "heatmap": [
           {
            "colorbar": {
             "outlinewidth": 0,
             "ticks": ""
            },
            "colorscale": [
             [
              0,
              "#0d0887"
             ],
             [
              0.1111111111111111,
              "#46039f"
             ],
             [
              0.2222222222222222,
              "#7201a8"
             ],
             [
              0.3333333333333333,
              "#9c179e"
             ],
             [
              0.4444444444444444,
              "#bd3786"
             ],
             [
              0.5555555555555556,
              "#d8576b"
             ],
             [
              0.6666666666666666,
              "#ed7953"
             ],
             [
              0.7777777777777778,
              "#fb9f3a"
             ],
             [
              0.8888888888888888,
              "#fdca26"
             ],
             [
              1,
              "#f0f921"
             ]
            ],
            "type": "heatmap"
           }
          ],
          "heatmapgl": [
           {
            "colorbar": {
             "outlinewidth": 0,
             "ticks": ""
            },
            "colorscale": [
             [
              0,
              "#0d0887"
             ],
             [
              0.1111111111111111,
              "#46039f"
             ],
             [
              0.2222222222222222,
              "#7201a8"
             ],
             [
              0.3333333333333333,
              "#9c179e"
             ],
             [
              0.4444444444444444,
              "#bd3786"
             ],
             [
              0.5555555555555556,
              "#d8576b"
             ],
             [
              0.6666666666666666,
              "#ed7953"
             ],
             [
              0.7777777777777778,
              "#fb9f3a"
             ],
             [
              0.8888888888888888,
              "#fdca26"
             ],
             [
              1,
              "#f0f921"
             ]
            ],
            "type": "heatmapgl"
           }
          ],
          "histogram": [
           {
            "marker": {
             "pattern": {
              "fillmode": "overlay",
              "size": 10,
              "solidity": 0.2
             }
            },
            "type": "histogram"
           }
          ],
          "histogram2d": [
           {
            "colorbar": {
             "outlinewidth": 0,
             "ticks": ""
            },
            "colorscale": [
             [
              0,
              "#0d0887"
             ],
             [
              0.1111111111111111,
              "#46039f"
             ],
             [
              0.2222222222222222,
              "#7201a8"
             ],
             [
              0.3333333333333333,
              "#9c179e"
             ],
             [
              0.4444444444444444,
              "#bd3786"
             ],
             [
              0.5555555555555556,
              "#d8576b"
             ],
             [
              0.6666666666666666,
              "#ed7953"
             ],
             [
              0.7777777777777778,
              "#fb9f3a"
             ],
             [
              0.8888888888888888,
              "#fdca26"
             ],
             [
              1,
              "#f0f921"
             ]
            ],
            "type": "histogram2d"
           }
          ],
          "histogram2dcontour": [
           {
            "colorbar": {
             "outlinewidth": 0,
             "ticks": ""
            },
            "colorscale": [
             [
              0,
              "#0d0887"
             ],
             [
              0.1111111111111111,
              "#46039f"
             ],
             [
              0.2222222222222222,
              "#7201a8"
             ],
             [
              0.3333333333333333,
              "#9c179e"
             ],
             [
              0.4444444444444444,
              "#bd3786"
             ],
             [
              0.5555555555555556,
              "#d8576b"
             ],
             [
              0.6666666666666666,
              "#ed7953"
             ],
             [
              0.7777777777777778,
              "#fb9f3a"
             ],
             [
              0.8888888888888888,
              "#fdca26"
             ],
             [
              1,
              "#f0f921"
             ]
            ],
            "type": "histogram2dcontour"
           }
          ],
          "mesh3d": [
           {
            "colorbar": {
             "outlinewidth": 0,
             "ticks": ""
            },
            "type": "mesh3d"
           }
          ],
          "parcoords": [
           {
            "line": {
             "colorbar": {
              "outlinewidth": 0,
              "ticks": ""
             }
            },
            "type": "parcoords"
           }
          ],
          "pie": [
           {
            "automargin": true,
            "type": "pie"
           }
          ],
          "scatter": [
           {
            "marker": {
             "colorbar": {
              "outlinewidth": 0,
              "ticks": ""
             }
            },
            "type": "scatter"
           }
          ],
          "scatter3d": [
           {
            "line": {
             "colorbar": {
              "outlinewidth": 0,
              "ticks": ""
             }
            },
            "marker": {
             "colorbar": {
              "outlinewidth": 0,
              "ticks": ""
             }
            },
            "type": "scatter3d"
           }
          ],
          "scattercarpet": [
           {
            "marker": {
             "colorbar": {
              "outlinewidth": 0,
              "ticks": ""
             }
            },
            "type": "scattercarpet"
           }
          ],
          "scattergeo": [
           {
            "marker": {
             "colorbar": {
              "outlinewidth": 0,
              "ticks": ""
             }
            },
            "type": "scattergeo"
           }
          ],
          "scattergl": [
           {
            "marker": {
             "colorbar": {
              "outlinewidth": 0,
              "ticks": ""
             }
            },
            "type": "scattergl"
           }
          ],
          "scattermapbox": [
           {
            "marker": {
             "colorbar": {
              "outlinewidth": 0,
              "ticks": ""
             }
            },
            "type": "scattermapbox"
           }
          ],
          "scatterpolar": [
           {
            "marker": {
             "colorbar": {
              "outlinewidth": 0,
              "ticks": ""
             }
            },
            "type": "scatterpolar"
           }
          ],
          "scatterpolargl": [
           {
            "marker": {
             "colorbar": {
              "outlinewidth": 0,
              "ticks": ""
             }
            },
            "type": "scatterpolargl"
           }
          ],
          "scatterternary": [
           {
            "marker": {
             "colorbar": {
              "outlinewidth": 0,
              "ticks": ""
             }
            },
            "type": "scatterternary"
           }
          ],
          "surface": [
           {
            "colorbar": {
             "outlinewidth": 0,
             "ticks": ""
            },
            "colorscale": [
             [
              0,
              "#0d0887"
             ],
             [
              0.1111111111111111,
              "#46039f"
             ],
             [
              0.2222222222222222,
              "#7201a8"
             ],
             [
              0.3333333333333333,
              "#9c179e"
             ],
             [
              0.4444444444444444,
              "#bd3786"
             ],
             [
              0.5555555555555556,
              "#d8576b"
             ],
             [
              0.6666666666666666,
              "#ed7953"
             ],
             [
              0.7777777777777778,
              "#fb9f3a"
             ],
             [
              0.8888888888888888,
              "#fdca26"
             ],
             [
              1,
              "#f0f921"
             ]
            ],
            "type": "surface"
           }
          ],
          "table": [
           {
            "cells": {
             "fill": {
              "color": "#EBF0F8"
             },
             "line": {
              "color": "white"
             }
            },
            "header": {
             "fill": {
              "color": "#C8D4E3"
             },
             "line": {
              "color": "white"
             }
            },
            "type": "table"
           }
          ]
         },
         "layout": {
          "annotationdefaults": {
           "arrowcolor": "#2a3f5f",
           "arrowhead": 0,
           "arrowwidth": 1
          },
          "autotypenumbers": "strict",
          "coloraxis": {
           "colorbar": {
            "outlinewidth": 0,
            "ticks": ""
           }
          },
          "colorscale": {
           "diverging": [
            [
             0,
             "#8e0152"
            ],
            [
             0.1,
             "#c51b7d"
            ],
            [
             0.2,
             "#de77ae"
            ],
            [
             0.3,
             "#f1b6da"
            ],
            [
             0.4,
             "#fde0ef"
            ],
            [
             0.5,
             "#f7f7f7"
            ],
            [
             0.6,
             "#e6f5d0"
            ],
            [
             0.7,
             "#b8e186"
            ],
            [
             0.8,
             "#7fbc41"
            ],
            [
             0.9,
             "#4d9221"
            ],
            [
             1,
             "#276419"
            ]
           ],
           "sequential": [
            [
             0,
             "#0d0887"
            ],
            [
             0.1111111111111111,
             "#46039f"
            ],
            [
             0.2222222222222222,
             "#7201a8"
            ],
            [
             0.3333333333333333,
             "#9c179e"
            ],
            [
             0.4444444444444444,
             "#bd3786"
            ],
            [
             0.5555555555555556,
             "#d8576b"
            ],
            [
             0.6666666666666666,
             "#ed7953"
            ],
            [
             0.7777777777777778,
             "#fb9f3a"
            ],
            [
             0.8888888888888888,
             "#fdca26"
            ],
            [
             1,
             "#f0f921"
            ]
           ],
           "sequentialminus": [
            [
             0,
             "#0d0887"
            ],
            [
             0.1111111111111111,
             "#46039f"
            ],
            [
             0.2222222222222222,
             "#7201a8"
            ],
            [
             0.3333333333333333,
             "#9c179e"
            ],
            [
             0.4444444444444444,
             "#bd3786"
            ],
            [
             0.5555555555555556,
             "#d8576b"
            ],
            [
             0.6666666666666666,
             "#ed7953"
            ],
            [
             0.7777777777777778,
             "#fb9f3a"
            ],
            [
             0.8888888888888888,
             "#fdca26"
            ],
            [
             1,
             "#f0f921"
            ]
           ]
          },
          "colorway": [
           "#636efa",
           "#EF553B",
           "#00cc96",
           "#ab63fa",
           "#FFA15A",
           "#19d3f3",
           "#FF6692",
           "#B6E880",
           "#FF97FF",
           "#FECB52"
          ],
          "font": {
           "color": "#2a3f5f"
          },
          "geo": {
           "bgcolor": "white",
           "lakecolor": "white",
           "landcolor": "#E5ECF6",
           "showlakes": true,
           "showland": true,
           "subunitcolor": "white"
          },
          "hoverlabel": {
           "align": "left"
          },
          "hovermode": "closest",
          "mapbox": {
           "style": "light"
          },
          "paper_bgcolor": "white",
          "plot_bgcolor": "#E5ECF6",
          "polar": {
           "angularaxis": {
            "gridcolor": "white",
            "linecolor": "white",
            "ticks": ""
           },
           "bgcolor": "#E5ECF6",
           "radialaxis": {
            "gridcolor": "white",
            "linecolor": "white",
            "ticks": ""
           }
          },
          "scene": {
           "xaxis": {
            "backgroundcolor": "#E5ECF6",
            "gridcolor": "white",
            "gridwidth": 2,
            "linecolor": "white",
            "showbackground": true,
            "ticks": "",
            "zerolinecolor": "white"
           },
           "yaxis": {
            "backgroundcolor": "#E5ECF6",
            "gridcolor": "white",
            "gridwidth": 2,
            "linecolor": "white",
            "showbackground": true,
            "ticks": "",
            "zerolinecolor": "white"
           },
           "zaxis": {
            "backgroundcolor": "#E5ECF6",
            "gridcolor": "white",
            "gridwidth": 2,
            "linecolor": "white",
            "showbackground": true,
            "ticks": "",
            "zerolinecolor": "white"
           }
          },
          "shapedefaults": {
           "line": {
            "color": "#2a3f5f"
           }
          },
          "ternary": {
           "aaxis": {
            "gridcolor": "white",
            "linecolor": "white",
            "ticks": ""
           },
           "baxis": {
            "gridcolor": "white",
            "linecolor": "white",
            "ticks": ""
           },
           "bgcolor": "#E5ECF6",
           "caxis": {
            "gridcolor": "white",
            "linecolor": "white",
            "ticks": ""
           }
          },
          "title": {
           "x": 0.05
          },
          "xaxis": {
           "automargin": true,
           "gridcolor": "white",
           "linecolor": "white",
           "ticks": "",
           "title": {
            "standoff": 15
           },
           "zerolinecolor": "white",
           "zerolinewidth": 2
          },
          "yaxis": {
           "automargin": true,
           "gridcolor": "white",
           "linecolor": "white",
           "ticks": "",
           "title": {
            "standoff": 15
           },
           "zerolinecolor": "white",
           "zerolinewidth": 2
          }
         }
        },
        "xaxis": {
         "anchor": "y",
         "domain": [
          0,
          1
         ],
         "title": {
          "text": "x"
         }
        },
        "yaxis": {
         "anchor": "x",
         "domain": [
          0,
          1
         ],
         "title": {
          "text": "y"
         }
        }
       }
      },
      "text/html": [
       "<div>                            <div id=\"181af29d-21da-4868-894a-b8cb3b98a83c\" class=\"plotly-graph-div\" style=\"height:525px; width:100%;\"></div>            <script type=\"text/javascript\">                require([\"plotly\"], function(Plotly) {                    window.PLOTLYENV=window.PLOTLYENV || {};                                    if (document.getElementById(\"181af29d-21da-4868-894a-b8cb3b98a83c\")) {                    Plotly.newPlot(                        \"181af29d-21da-4868-894a-b8cb3b98a83c\",                        [{\"customdata\":[[[0,0,0,0,0,0]],[[0,0,0,0,0,1]],[[0,0,0,0,1,0]],[[0,0,0,0,1,1]],[[0,0,0,1,0,0]],[[0,0,0,1,0,1]],[[0,0,0,1,1,0]],[[0,0,0,1,1,1]],[[0,0,1,0,0,0]],[[0,0,1,0,0,1]],[[0,0,1,0,1,0]],[[0,0,1,0,1,1]],[[0,0,1,1,0,0]],[[0,0,1,1,0,1]],[[0,0,1,1,1,0]],[[0,0,1,1,1,1]],[[0,1,0,0,0,0]],[[0,1,0,0,0,1]],[[0,1,0,0,1,0]],[[0,1,0,0,1,1]],[[0,1,0,1,0,0]],[[0,1,0,1,0,1]],[[0,1,0,1,1,0]],[[0,1,0,1,1,1]],[[0,1,1,0,0,0]],[[0,1,1,0,0,1]],[[0,1,1,0,1,0]],[[0,1,1,0,1,1]],[[0,1,1,1,0,0]],[[0,1,1,1,0,1]],[[0,1,1,1,1,0]],[[0,1,1,1,1,1]],[[1,0,0,0,0,0]],[[1,0,0,0,0,1]],[[1,0,0,0,1,0]],[[1,0,0,0,1,1]],[[1,0,0,1,0,0]],[[1,0,0,1,0,1]],[[1,0,0,1,1,0]],[[1,0,0,1,1,1]],[[1,0,1,0,0,0]],[[1,0,1,0,0,1]],[[1,0,1,0,1,0]],[[1,0,1,0,1,1]],[[1,0,1,1,0,0]],[[1,0,1,1,0,1]],[[1,0,1,1,1,0]],[[1,0,1,1,1,1]],[[1,1,0,0,0,0]],[[1,1,0,0,0,1]],[[1,1,0,0,1,0]],[[1,1,0,0,1,1]],[[1,1,0,1,0,0]],[[1,1,0,1,0,1]],[[1,1,0,1,1,0]],[[1,1,0,1,1,1]],[[1,1,1,0,0,0]],[[1,1,1,0,0,1]],[[1,1,1,0,1,0]],[[1,1,1,0,1,1]],[[1,1,1,1,0,0]],[[1,1,1,1,0,1]],[[1,1,1,1,1,0]],[[1,1,1,1,1,1]]],\"hovertemplate\":\"x=%{x}<br>y=%{y}<br>hover_data_0=%{customdata[0]}<extra></extra>\",\"legendgroup\":\"\",\"marker\":{\"color\":\"#636efa\",\"symbol\":\"circle\"},\"mode\":\"markers\",\"name\":\"\",\"orientation\":\"v\",\"showlegend\":false,\"x\":[14,14,10,14,8,10,8,14,12,10,12,14,6,6,10,14,10,6,6,6,8,6,8,10,12,6,12,10,10,6,14,14,14,14,6,10,10,12,6,12,10,8,6,8,6,6,6,10,14,10,6,6,14,12,10,12,14,8,10,8,14,10,14,14],\"xaxis\":\"x\",\"y\":[-0.01620226444085061,0.2322065648536661,-3.9695995267559048,4.083355452148663,-5.842959829377429,0.4493023896905363,-1.740594036608991,11.761463399364631,-2.5060762511548416,-5.935240332684715,1.6856358100949027,5.654441944080381,-8.04960785037932,-6.005939263219803,4.524282758506401,13.969405408091536,-3.7106982331075273,-11.722814834959786,-8.166714286427943,-8.037115244125989,-5.5294558223183925,-7.921510228790941,-2.5361584292320383,4.3850711203734996,1.646315407150961,-10.359268996847037,5.963284792907124,2.261186068431659,0.1870892065086547,-5.865559296771337,11.759714476940184,13.577319168150117,0.11417970498898797,0.13587069424035586,-3.643923416207807,3.976832028781603,-1.8746915599450082,4.091390628673064,2.185222391525609,15.190349483898547,-5.883680746061855,-9.84833319671207,-1.9501191681348364,2.020299017665083,-8.166301626251071,-6.044030691466911,4.18011136554912,13.655789279968593,3.767567119795765,-4.167739644030362,-0.1341979943877143,0.02255836956399117,6.307771741229971,4.430132080141887,10.220657689569776,15.803477237866046,5.694219294200874,-5.350638812950911,10.063621676375334,5.861060106089002,7.350125928251939,1.9041551287127985,19.85151103542358,21.977031443142106],\"yaxis\":\"y\",\"type\":\"scatter\"}],                        {\"template\":{\"data\":{\"bar\":[{\"error_x\":{\"color\":\"#2a3f5f\"},\"error_y\":{\"color\":\"#2a3f5f\"},\"marker\":{\"line\":{\"color\":\"#E5ECF6\",\"width\":0.5},\"pattern\":{\"fillmode\":\"overlay\",\"size\":10,\"solidity\":0.2}},\"type\":\"bar\"}],\"barpolar\":[{\"marker\":{\"line\":{\"color\":\"#E5ECF6\",\"width\":0.5},\"pattern\":{\"fillmode\":\"overlay\",\"size\":10,\"solidity\":0.2}},\"type\":\"barpolar\"}],\"carpet\":[{\"aaxis\":{\"endlinecolor\":\"#2a3f5f\",\"gridcolor\":\"white\",\"linecolor\":\"white\",\"minorgridcolor\":\"white\",\"startlinecolor\":\"#2a3f5f\"},\"baxis\":{\"endlinecolor\":\"#2a3f5f\",\"gridcolor\":\"white\",\"linecolor\":\"white\",\"minorgridcolor\":\"white\",\"startlinecolor\":\"#2a3f5f\"},\"type\":\"carpet\"}],\"choropleth\":[{\"colorbar\":{\"outlinewidth\":0,\"ticks\":\"\"},\"type\":\"choropleth\"}],\"contour\":[{\"colorbar\":{\"outlinewidth\":0,\"ticks\":\"\"},\"colorscale\":[[0.0,\"#0d0887\"],[0.1111111111111111,\"#46039f\"],[0.2222222222222222,\"#7201a8\"],[0.3333333333333333,\"#9c179e\"],[0.4444444444444444,\"#bd3786\"],[0.5555555555555556,\"#d8576b\"],[0.6666666666666666,\"#ed7953\"],[0.7777777777777778,\"#fb9f3a\"],[0.8888888888888888,\"#fdca26\"],[1.0,\"#f0f921\"]],\"type\":\"contour\"}],\"contourcarpet\":[{\"colorbar\":{\"outlinewidth\":0,\"ticks\":\"\"},\"type\":\"contourcarpet\"}],\"heatmap\":[{\"colorbar\":{\"outlinewidth\":0,\"ticks\":\"\"},\"colorscale\":[[0.0,\"#0d0887\"],[0.1111111111111111,\"#46039f\"],[0.2222222222222222,\"#7201a8\"],[0.3333333333333333,\"#9c179e\"],[0.4444444444444444,\"#bd3786\"],[0.5555555555555556,\"#d8576b\"],[0.6666666666666666,\"#ed7953\"],[0.7777777777777778,\"#fb9f3a\"],[0.8888888888888888,\"#fdca26\"],[1.0,\"#f0f921\"]],\"type\":\"heatmap\"}],\"heatmapgl\":[{\"colorbar\":{\"outlinewidth\":0,\"ticks\":\"\"},\"colorscale\":[[0.0,\"#0d0887\"],[0.1111111111111111,\"#46039f\"],[0.2222222222222222,\"#7201a8\"],[0.3333333333333333,\"#9c179e\"],[0.4444444444444444,\"#bd3786\"],[0.5555555555555556,\"#d8576b\"],[0.6666666666666666,\"#ed7953\"],[0.7777777777777778,\"#fb9f3a\"],[0.8888888888888888,\"#fdca26\"],[1.0,\"#f0f921\"]],\"type\":\"heatmapgl\"}],\"histogram\":[{\"marker\":{\"pattern\":{\"fillmode\":\"overlay\",\"size\":10,\"solidity\":0.2}},\"type\":\"histogram\"}],\"histogram2d\":[{\"colorbar\":{\"outlinewidth\":0,\"ticks\":\"\"},\"colorscale\":[[0.0,\"#0d0887\"],[0.1111111111111111,\"#46039f\"],[0.2222222222222222,\"#7201a8\"],[0.3333333333333333,\"#9c179e\"],[0.4444444444444444,\"#bd3786\"],[0.5555555555555556,\"#d8576b\"],[0.6666666666666666,\"#ed7953\"],[0.7777777777777778,\"#fb9f3a\"],[0.8888888888888888,\"#fdca26\"],[1.0,\"#f0f921\"]],\"type\":\"histogram2d\"}],\"histogram2dcontour\":[{\"colorbar\":{\"outlinewidth\":0,\"ticks\":\"\"},\"colorscale\":[[0.0,\"#0d0887\"],[0.1111111111111111,\"#46039f\"],[0.2222222222222222,\"#7201a8\"],[0.3333333333333333,\"#9c179e\"],[0.4444444444444444,\"#bd3786\"],[0.5555555555555556,\"#d8576b\"],[0.6666666666666666,\"#ed7953\"],[0.7777777777777778,\"#fb9f3a\"],[0.8888888888888888,\"#fdca26\"],[1.0,\"#f0f921\"]],\"type\":\"histogram2dcontour\"}],\"mesh3d\":[{\"colorbar\":{\"outlinewidth\":0,\"ticks\":\"\"},\"type\":\"mesh3d\"}],\"parcoords\":[{\"line\":{\"colorbar\":{\"outlinewidth\":0,\"ticks\":\"\"}},\"type\":\"parcoords\"}],\"pie\":[{\"automargin\":true,\"type\":\"pie\"}],\"scatter\":[{\"marker\":{\"colorbar\":{\"outlinewidth\":0,\"ticks\":\"\"}},\"type\":\"scatter\"}],\"scatter3d\":[{\"line\":{\"colorbar\":{\"outlinewidth\":0,\"ticks\":\"\"}},\"marker\":{\"colorbar\":{\"outlinewidth\":0,\"ticks\":\"\"}},\"type\":\"scatter3d\"}],\"scattercarpet\":[{\"marker\":{\"colorbar\":{\"outlinewidth\":0,\"ticks\":\"\"}},\"type\":\"scattercarpet\"}],\"scattergeo\":[{\"marker\":{\"colorbar\":{\"outlinewidth\":0,\"ticks\":\"\"}},\"type\":\"scattergeo\"}],\"scattergl\":[{\"marker\":{\"colorbar\":{\"outlinewidth\":0,\"ticks\":\"\"}},\"type\":\"scattergl\"}],\"scattermapbox\":[{\"marker\":{\"colorbar\":{\"outlinewidth\":0,\"ticks\":\"\"}},\"type\":\"scattermapbox\"}],\"scatterpolar\":[{\"marker\":{\"colorbar\":{\"outlinewidth\":0,\"ticks\":\"\"}},\"type\":\"scatterpolar\"}],\"scatterpolargl\":[{\"marker\":{\"colorbar\":{\"outlinewidth\":0,\"ticks\":\"\"}},\"type\":\"scatterpolargl\"}],\"scatterternary\":[{\"marker\":{\"colorbar\":{\"outlinewidth\":0,\"ticks\":\"\"}},\"type\":\"scatterternary\"}],\"surface\":[{\"colorbar\":{\"outlinewidth\":0,\"ticks\":\"\"},\"colorscale\":[[0.0,\"#0d0887\"],[0.1111111111111111,\"#46039f\"],[0.2222222222222222,\"#7201a8\"],[0.3333333333333333,\"#9c179e\"],[0.4444444444444444,\"#bd3786\"],[0.5555555555555556,\"#d8576b\"],[0.6666666666666666,\"#ed7953\"],[0.7777777777777778,\"#fb9f3a\"],[0.8888888888888888,\"#fdca26\"],[1.0,\"#f0f921\"]],\"type\":\"surface\"}],\"table\":[{\"cells\":{\"fill\":{\"color\":\"#EBF0F8\"},\"line\":{\"color\":\"white\"}},\"header\":{\"fill\":{\"color\":\"#C8D4E3\"},\"line\":{\"color\":\"white\"}},\"type\":\"table\"}]},\"layout\":{\"annotationdefaults\":{\"arrowcolor\":\"#2a3f5f\",\"arrowhead\":0,\"arrowwidth\":1},\"autotypenumbers\":\"strict\",\"coloraxis\":{\"colorbar\":{\"outlinewidth\":0,\"ticks\":\"\"}},\"colorscale\":{\"diverging\":[[0,\"#8e0152\"],[0.1,\"#c51b7d\"],[0.2,\"#de77ae\"],[0.3,\"#f1b6da\"],[0.4,\"#fde0ef\"],[0.5,\"#f7f7f7\"],[0.6,\"#e6f5d0\"],[0.7,\"#b8e186\"],[0.8,\"#7fbc41\"],[0.9,\"#4d9221\"],[1,\"#276419\"]],\"sequential\":[[0.0,\"#0d0887\"],[0.1111111111111111,\"#46039f\"],[0.2222222222222222,\"#7201a8\"],[0.3333333333333333,\"#9c179e\"],[0.4444444444444444,\"#bd3786\"],[0.5555555555555556,\"#d8576b\"],[0.6666666666666666,\"#ed7953\"],[0.7777777777777778,\"#fb9f3a\"],[0.8888888888888888,\"#fdca26\"],[1.0,\"#f0f921\"]],\"sequentialminus\":[[0.0,\"#0d0887\"],[0.1111111111111111,\"#46039f\"],[0.2222222222222222,\"#7201a8\"],[0.3333333333333333,\"#9c179e\"],[0.4444444444444444,\"#bd3786\"],[0.5555555555555556,\"#d8576b\"],[0.6666666666666666,\"#ed7953\"],[0.7777777777777778,\"#fb9f3a\"],[0.8888888888888888,\"#fdca26\"],[1.0,\"#f0f921\"]]},\"colorway\":[\"#636efa\",\"#EF553B\",\"#00cc96\",\"#ab63fa\",\"#FFA15A\",\"#19d3f3\",\"#FF6692\",\"#B6E880\",\"#FF97FF\",\"#FECB52\"],\"font\":{\"color\":\"#2a3f5f\"},\"geo\":{\"bgcolor\":\"white\",\"lakecolor\":\"white\",\"landcolor\":\"#E5ECF6\",\"showlakes\":true,\"showland\":true,\"subunitcolor\":\"white\"},\"hoverlabel\":{\"align\":\"left\"},\"hovermode\":\"closest\",\"mapbox\":{\"style\":\"light\"},\"paper_bgcolor\":\"white\",\"plot_bgcolor\":\"#E5ECF6\",\"polar\":{\"angularaxis\":{\"gridcolor\":\"white\",\"linecolor\":\"white\",\"ticks\":\"\"},\"bgcolor\":\"#E5ECF6\",\"radialaxis\":{\"gridcolor\":\"white\",\"linecolor\":\"white\",\"ticks\":\"\"}},\"scene\":{\"xaxis\":{\"backgroundcolor\":\"#E5ECF6\",\"gridcolor\":\"white\",\"gridwidth\":2,\"linecolor\":\"white\",\"showbackground\":true,\"ticks\":\"\",\"zerolinecolor\":\"white\"},\"yaxis\":{\"backgroundcolor\":\"#E5ECF6\",\"gridcolor\":\"white\",\"gridwidth\":2,\"linecolor\":\"white\",\"showbackground\":true,\"ticks\":\"\",\"zerolinecolor\":\"white\"},\"zaxis\":{\"backgroundcolor\":\"#E5ECF6\",\"gridcolor\":\"white\",\"gridwidth\":2,\"linecolor\":\"white\",\"showbackground\":true,\"ticks\":\"\",\"zerolinecolor\":\"white\"}},\"shapedefaults\":{\"line\":{\"color\":\"#2a3f5f\"}},\"ternary\":{\"aaxis\":{\"gridcolor\":\"white\",\"linecolor\":\"white\",\"ticks\":\"\"},\"baxis\":{\"gridcolor\":\"white\",\"linecolor\":\"white\",\"ticks\":\"\"},\"bgcolor\":\"#E5ECF6\",\"caxis\":{\"gridcolor\":\"white\",\"linecolor\":\"white\",\"ticks\":\"\"}},\"title\":{\"x\":0.05},\"xaxis\":{\"automargin\":true,\"gridcolor\":\"white\",\"linecolor\":\"white\",\"ticks\":\"\",\"title\":{\"standoff\":15},\"zerolinecolor\":\"white\",\"zerolinewidth\":2},\"yaxis\":{\"automargin\":true,\"gridcolor\":\"white\",\"linecolor\":\"white\",\"ticks\":\"\",\"title\":{\"standoff\":15},\"zerolinecolor\":\"white\",\"zerolinewidth\":2}}},\"xaxis\":{\"anchor\":\"y\",\"domain\":[0.0,1.0],\"title\":{\"text\":\"x\"}},\"yaxis\":{\"anchor\":\"x\",\"domain\":[0.0,1.0],\"title\":{\"text\":\"y\"}},\"legend\":{\"tracegroupgap\":0},\"margin\":{\"t\":60}},                        {\"responsive\": true}                    ).then(function(){\n",
       "                            \n",
       "var gd = document.getElementById('181af29d-21da-4868-894a-b8cb3b98a83c');\n",
       "var x = new MutationObserver(function (mutations, observer) {{\n",
       "        var display = window.getComputedStyle(gd).display;\n",
       "        if (!display || display === 'none') {{\n",
       "            console.log([gd, 'removed!']);\n",
       "            Plotly.purge(gd);\n",
       "            observer.disconnect();\n",
       "        }}\n",
       "}});\n",
       "\n",
       "// Listen for the removal of the full notebook cells\n",
       "var notebookContainer = gd.closest('#notebook-container');\n",
       "if (notebookContainer) {{\n",
       "    x.observe(notebookContainer, {childList: true});\n",
       "}}\n",
       "\n",
       "// Listen for the clearing of the current output cell\n",
       "var outputEl = gd.closest('.output');\n",
       "if (outputEl) {{\n",
       "    x.observe(outputEl, {childList: true});\n",
       "}}\n",
       "\n",
       "                        })                };                });            </script>        </div>"
      ]
     },
     "metadata": {},
     "output_type": "display_data"
    }
   ],
   "source": [
    "import plotly.express as px\n",
    "\n",
    "fig = px.scatter(x = breaks_list, \n",
    "            y = np.array(values) + 0.3 * np.random.normal(size = np.array(values).shape),\n",
    "            hover_data = [bitstrings])\n",
    "\n",
    "fig.write_html(\"/home/user/mnt/project/src/px_break_energy_diagram.html\")\n",
    "fig"
   ]
  },
  {
   "cell_type": "code",
   "execution_count": 43,
   "metadata": {},
   "outputs": [
    {
     "data": {
      "text/html": [
       "<div>\n",
       "<style scoped>\n",
       "    .dataframe tbody tr th:only-of-type {\n",
       "        vertical-align: middle;\n",
       "    }\n",
       "\n",
       "    .dataframe tbody tr th {\n",
       "        vertical-align: top;\n",
       "    }\n",
       "\n",
       "    .dataframe thead th {\n",
       "        text-align: right;\n",
       "    }\n",
       "</style>\n",
       "<table border=\"1\" class=\"dataframe\">\n",
       "  <thead>\n",
       "    <tr style=\"text-align: right;\">\n",
       "      <th></th>\n",
       "      <th>E</th>\n",
       "    </tr>\n",
       "    <tr>\n",
       "      <th>breaks</th>\n",
       "      <th></th>\n",
       "    </tr>\n",
       "  </thead>\n",
       "  <tbody>\n",
       "    <tr>\n",
       "      <th>6</th>\n",
       "      <td>-3.0</td>\n",
       "    </tr>\n",
       "    <tr>\n",
       "      <th>8</th>\n",
       "      <td>-4.0</td>\n",
       "    </tr>\n",
       "    <tr>\n",
       "      <th>10</th>\n",
       "      <td>0.0</td>\n",
       "    </tr>\n",
       "    <tr>\n",
       "      <th>12</th>\n",
       "      <td>0.0</td>\n",
       "    </tr>\n",
       "    <tr>\n",
       "      <th>14</th>\n",
       "      <td>5.0</td>\n",
       "    </tr>\n",
       "  </tbody>\n",
       "</table>\n",
       "</div>"
      ],
      "text/plain": [
       "          E\n",
       "breaks     \n",
       "6      -3.0\n",
       "8      -4.0\n",
       "10      0.0\n",
       "12      0.0\n",
       "14      5.0"
      ]
     },
     "execution_count": 43,
     "metadata": {},
     "output_type": "execute_result"
    }
   ],
   "source": [
    "import pandas as pd\n",
    "\n",
    "pd.DataFrame( {\"breaks\": breaks_list, \"E\": values} ).groupby(\"breaks\").mean()"
   ]
  },
  {
   "cell_type": "code",
   "execution_count": 109,
   "metadata": {},
   "outputs": [
    {
     "data": {
      "text/plain": [
       "(array([12, 13, 17, 18, 19, 21, 25, 29, 34, 38, 42, 44, 45, 46, 50, 51]),)"
      ]
     },
     "execution_count": 109,
     "metadata": {},
     "output_type": "execute_result"
    }
   ],
   "source": [
    "np.where( np.array(breaks_list) == min(breaks_list) )"
   ]
  },
  {
   "cell_type": "code",
   "execution_count": 100,
   "metadata": {},
   "outputs": [
    {
     "data": {
      "text/plain": [
       "14"
      ]
     },
     "execution_count": 100,
     "metadata": {},
     "output_type": "execute_result"
    }
   ],
   "source": [
    "max(breaks_list)"
   ]
  },
  {
   "cell_type": "code",
   "execution_count": 101,
   "metadata": {},
   "outputs": [
    {
     "data": {
      "text/plain": [
       "(6, array([0, 1, 0, 0, 1, 1]))"
      ]
     },
     "execution_count": 101,
     "metadata": {},
     "output_type": "execute_result"
    }
   ],
   "source": [
    "breaks_list[19], bitstrings[19]"
   ]
  }
 ],
 "metadata": {
  "interpreter": {
   "hash": "2f394aca7ca06fed1e6064aef884364492d7cdda3614a461e02e6407fc40ba69"
  },
  "kernelspec": {
   "display_name": "Python 3.9.7 ('base')",
   "language": "python",
   "name": "python3"
  },
  "language_info": {
   "codemirror_mode": {
    "name": "ipython",
    "version": 3
   },
   "file_extension": ".py",
   "mimetype": "text/x-python",
   "name": "python",
   "nbconvert_exporter": "python",
   "pygments_lexer": "ipython3",
   "version": "3.9.7"
  },
  "orig_nbformat": 4
 },
 "nbformat": 4,
 "nbformat_minor": 2
}
