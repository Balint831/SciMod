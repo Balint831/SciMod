{
 "cells": [
  {
   "cell_type": "code",
   "execution_count": 2,
   "metadata": {},
   "outputs": [],
   "source": []
  },
  {
   "cell_type": "markdown",
   "metadata": {},
   "source": [
    "# Random symmetric QUBO matrix"
   ]
  },
  {
   "cell_type": "code",
   "execution_count": 3,
   "metadata": {},
   "outputs": [],
   "source": [
    "import matplotlib.pyplot as plt\n",
    "from qubo_divided import solve_qubo_by_dividing\n",
    "\n",
    "\n",
    "import numpy as np\n",
    "\n",
    "import itertools\n",
    "\n",
    "\n",
    "d = 3\n",
    "\n",
    "A, B, C, D, E, F = 5, 4, 2, 3, 1, 0\n",
    "\n",
    "\n",
    "Q = np.array([  [ A, B, C], \n",
    "                [ B, D, E],\n",
    "                [ C, E, F]])\n",
    "#2 * np.random.rand(d, d) - 1"
   ]
  },
  {
   "cell_type": "markdown",
   "metadata": {},
   "source": [
    "# "
   ]
  },
  {
   "cell_type": "code",
   "execution_count": 14,
   "metadata": {},
   "outputs": [
    {
     "name": "stdout",
     "output_type": "stream",
     "text": [
      "parity: 0\n",
      "Mean energies -6.0\n",
      "Mean energies -6.0\n",
      "Mean energies -6.0\n",
      "Mean energies -12.0\n",
      "Mean energies 2.0\n",
      "Mean energies -2.0\n",
      "Mean energies -8.0\n",
      "Mean energies 4.0\n",
      "Mean energies 6.0\n",
      "Mean energies -2.0\n",
      "Mean energies 2.0\n",
      "Mean energies 2.0\n",
      "Mean energies 2.0\n",
      "Mean energies -2.0\n",
      "Mean energies 0.0\n",
      "Mean energies 0.0\n",
      "Mean energies -8.0\n",
      "Mean energies -2.0\n",
      "Mean energies -6.0\n",
      "Mean energies 16.0\n",
      "Mean energies 0.0\n",
      "Mean energies -6.0\n",
      "Mean energies 2.0\n",
      "Mean energies -6.0\n",
      "Mean energies 6.0\n",
      "Mean energies -8.0\n",
      "Mean energies -8.0\n",
      "Mean energies 4.0\n",
      "Mean energies -6.0\n",
      "Mean energies 2.0\n",
      "Mean energies -6.0\n",
      "Mean energies 4.0\n",
      "Mean energies -8.0\n",
      "Mean energies 2.0\n",
      "Mean energies 6.0\n",
      "Mean energies -4.0\n",
      "Mean energies -6.0\n",
      "Mean energies 4.0\n",
      "Mean energies 2.0\n",
      "Mean energies -12.0\n",
      "Mean energies -2.0\n",
      "Mean energies 4.0\n",
      "Mean energies 2.0\n",
      "Mean energies 0.0\n",
      "Mean energies -2.0\n",
      "Mean energies -4.0\n",
      "Mean energies 0.0\n",
      "Mean energies -8.0\n",
      "Mean energies 6.0\n",
      "Mean energies 6.0\n",
      "Mean energies 12.0\n",
      "Mean energies -12.0\n",
      "Mean energies -8.0\n",
      "Mean energies 16.0\n",
      "Mean energies -2.0\n",
      "Mean energies 6.0\n",
      "Mean energies -12.0\n",
      "Mean energies -6.0\n",
      "Mean energies 12.0\n",
      "Mean energies 0.0\n",
      "Mean energies -8.0\n",
      "Mean energies -4.0\n",
      "Mean energies -12.0\n",
      "Mean energies -8.0\n",
      "Mean energies -8.0\n",
      "Mean energies 4.0\n",
      "Mean energies -6.0\n",
      "Mean energies -2.0\n",
      "Mean energies -6.0\n",
      "Mean energies 2.0\n",
      "Mean energies 2.0\n",
      "Mean energies -4.0\n",
      "Mean energies 4.0\n",
      "Mean energies -6.0\n",
      "Mean energies -6.0\n",
      "Mean energies -2.0\n",
      "Mean energies 0.0\n",
      "Mean energies 4.0\n",
      "Mean energies -6.0\n",
      "Mean energies 0.0\n",
      "Mean energies -12.0\n",
      "Mean energies -2.0\n",
      "Mean energies -2.0\n",
      "Mean energies 12.0\n",
      "Mean energies -4.0\n",
      "Mean energies -8.0\n",
      "Mean energies 2.0\n",
      "Mean energies 12.0\n",
      "Mean energies -2.0\n",
      "Mean energies 2.0\n",
      "Mean energies 12.0\n",
      "Mean energies 2.0\n",
      "Mean energies -2.0\n",
      "Mean energies 2.0\n",
      "Mean energies 4.0\n",
      "Mean energies 4.0\n",
      "Mean energies 2.0\n",
      "Mean energies -8.0\n",
      "Mean energies 0.0\n",
      "Mean energies 2.0\n",
      "parity: 1\n",
      "Mean energies 6.0\n",
      "Mean energies 2.0\n",
      "Mean energies -8.0\n",
      "Mean energies -4.0\n",
      "Mean energies -12.0\n",
      "Mean energies -4.0\n",
      "Mean energies 16.0\n",
      "Mean energies 16.0\n",
      "Mean energies 0.0\n",
      "Mean energies 2.0\n",
      "Mean energies 12.0\n",
      "Mean energies -6.0\n",
      "Mean energies -8.0\n",
      "Mean energies 6.0\n",
      "Mean energies 2.0\n",
      "Mean energies -6.0\n",
      "Mean energies 4.0\n",
      "Mean energies 16.0\n",
      "Mean energies -6.0\n",
      "Mean energies -6.0\n",
      "Mean energies -6.0\n",
      "Mean energies 2.0\n",
      "Mean energies 12.0\n",
      "Mean energies 6.0\n",
      "Mean energies 16.0\n",
      "Mean energies 6.0\n",
      "Mean energies -2.0\n",
      "Mean energies 6.0\n",
      "Mean energies 6.0\n",
      "Mean energies 6.0\n",
      "Mean energies 6.0\n",
      "Mean energies 12.0\n",
      "Mean energies -4.0\n",
      "Mean energies 6.0\n",
      "Mean energies 16.0\n",
      "Mean energies -4.0\n",
      "Mean energies -6.0\n",
      "Mean energies 2.0\n",
      "Mean energies 6.0\n",
      "Mean energies -6.0\n",
      "Mean energies -4.0\n",
      "Mean energies 0.0\n",
      "Mean energies 6.0\n",
      "Mean energies 2.0\n",
      "Mean energies 6.0\n",
      "Mean energies -6.0\n",
      "Mean energies 4.0\n",
      "Mean energies 2.0\n",
      "Mean energies -4.0\n",
      "Mean energies 12.0\n",
      "Mean energies 16.0\n",
      "Mean energies 16.0\n",
      "Mean energies 2.0\n",
      "Mean energies -8.0\n",
      "Mean energies 6.0\n",
      "Mean energies 6.0\n",
      "Mean energies 16.0\n",
      "Mean energies 16.0\n",
      "Mean energies 16.0\n",
      "Mean energies 6.0\n",
      "Mean energies 4.0\n",
      "Mean energies -12.0\n",
      "Mean energies -8.0\n",
      "Mean energies 2.0\n",
      "Mean energies 16.0\n",
      "Mean energies 12.0\n",
      "Mean energies 12.0\n",
      "Mean energies -8.0\n",
      "Mean energies 0.0\n",
      "Mean energies 4.0\n",
      "Mean energies -6.0\n",
      "Mean energies 2.0\n",
      "Mean energies -12.0\n",
      "Mean energies 6.0\n",
      "Mean energies 16.0\n",
      "Mean energies 2.0\n",
      "Mean energies 6.0\n",
      "Mean energies -8.0\n",
      "Mean energies -2.0\n",
      "Mean energies 2.0\n",
      "Mean energies 4.0\n",
      "Mean energies -8.0\n",
      "Mean energies 16.0\n",
      "Mean energies 6.0\n",
      "Mean energies 6.0\n",
      "Mean energies 16.0\n",
      "Mean energies 16.0\n",
      "Mean energies 4.0\n",
      "Mean energies -8.0\n",
      "Mean energies 2.0\n",
      "Mean energies -12.0\n",
      "Mean energies 16.0\n",
      "Mean energies 2.0\n",
      "Mean energies 2.0\n",
      "Mean energies 6.0\n",
      "Mean energies 6.0\n",
      "Mean energies 6.0\n",
      "Mean energies 2.0\n",
      "Mean energies -8.0\n",
      "Mean energies -4.0\n"
     ]
    },
    {
     "data": {
      "image/png": "[encoded data removed]",
      "text/plain": [
       "<Figure size 432x288 with 1 Axes>"
      ]
     },
     "metadata": {
      "needs_background": "light"
     },
     "output_type": "display_data"
    },
    {
     "name": "stdout",
     "output_type": "stream",
     "text": [
      "[[ 0  4 -2 -4  2  0]\n",
      " [ 4 -4  4  0  4 -4]\n",
      " [-2  4 -2  4  0 -2]\n",
      " [-4  0  4 -4  4  4]\n",
      " [ 2  4  0  4 -6  2]\n",
      " [ 0 -4 -2  4  2  0]]\n",
      "Algo: -12 [1, 0, 0, 1, 0, 0]\n",
      "Exact solution: (-12, array([0, 1, 0, 0, 0, 1]))\n"
     ]
    }
   ],
   "source": [
    "Q = np.array(  [[ 0, 4,-2,-4, 2, 0],\n",
    "                [ 4,-4, 4, 0, 4,-4],\n",
    "                [-2, 4,-2, 4, 0,-2],\n",
    "                [-4, 0, 4,-4, 4, 4],\n",
    "                [ 2, 4, 0, 4,-6, 2],\n",
    "                [ 0,-4,-2, 4, 2, 0]])\n",
    "\n",
    "d = 6\n",
    "\n",
    "min_energy, min_bistring = solve_qubo_by_dividing(\n",
    "    Q,\n",
    "    learning_rate=0.1,\n",
    "    shots=1,\n",
    "    updates=100,\n",
    "    d_per_computer=d,\n",
    ")\n",
    "\n",
    "print(Q)\n",
    "print(\"Algo:\", min_energy, min_bistring)\n",
    "\n",
    "\n",
    "def calculate_QUBO_explicitely(Q):\n",
    "    d = len(Q)\n",
    "\n",
    "    bitstrings = list(map(np.array, list(itertools.product([0, 1], repeat=d))))\n",
    "\n",
    "    values = []\n",
    "\n",
    "    for bitstring in bitstrings:\n",
    "        values.append(bitstring @ Q @ bitstring)\n",
    "\n",
    "    return min(values), bitstrings[np.argmin(values)]\n",
    "\n",
    "\n",
    "print(\"Exact solution:\", calculate_QUBO_explicitely(Q))"
   ]
  },
  {
   "cell_type": "code",
   "execution_count": 15,
   "metadata": {},
   "outputs": [],
   "source": [
    "d = 6\n",
    "\n",
    "bitstrings = list(map(np.array, list(itertools.product([0, 1], repeat=d))))\n",
    "\n",
    "values = []\n",
    "\n",
    "for bitstring in bitstrings:\n",
    "    values.append(bitstring @ Q @ bitstring)\n"
   ]
  },
  {
   "cell_type": "code",
   "execution_count": 16,
   "metadata": {},
   "outputs": [
    {
     "data": {
      "text/plain": [
       "(array([17, 36]),)"
      ]
     },
     "execution_count": 16,
     "metadata": {},
     "output_type": "execute_result"
    }
   ],
   "source": [
    "np.where( values == min(values) )"
   ]
  },
  {
   "cell_type": "code",
   "execution_count": 19,
   "metadata": {},
   "outputs": [],
   "source": [
    "timetable = np.array([[2,3,4,2,3,4],\n",
    "                      [1,4,3,1,4,3],\n",
    "                      [4,1,2,4,1,2],\n",
    "                      [3,2,1,3,2,1]])\n",
    "z = bitstrings[17]"
   ]
  },
  {
   "cell_type": "code",
   "execution_count": 21,
   "metadata": {},
   "outputs": [
    {
     "data": {
      "text/plain": [
       "True"
      ]
     },
     "execution_count": 21,
     "metadata": {},
     "output_type": "execute_result"
    }
   ],
   "source": [
    "str(1) in [\"1\", \"2\", \"3\"]"
   ]
  },
  {
   "cell_type": "code",
   "execution_count": 41,
   "metadata": {},
   "outputs": [
    {
     "data": {
      "text/plain": [
       "{'12': 0, '13': 1, '14': 0, '23': 0, '24': 0, '34': 1}"
      ]
     },
     "execution_count": 41,
     "metadata": {},
     "output_type": "execute_result"
    }
   ],
   "source": []
  },
  {
   "cell_type": "code",
   "execution_count": 57,
   "metadata": {},
   "outputs": [
    {
     "data": {
      "text/plain": [
       "array([0, 1, 0, 0, 0, 1])"
      ]
     },
     "execution_count": 57,
     "metadata": {},
     "output_type": "execute_result"
    }
   ],
   "source": [
    "z"
   ]
  },
  {
   "cell_type": "code",
   "execution_count": 59,
   "metadata": {},
   "outputs": [
    {
     "data": {
      "text/plain": [
       "array([[0, 1, 0, 1, 0, 1],\n",
       "       [1, 0, 0, 0, 1, 1],\n",
       "       [1, 0, 1, 0, 1, 0],\n",
       "       [0, 1, 1, 1, 0, 0]])"
      ]
     },
     "execution_count": 59,
     "metadata": {},
     "output_type": "execute_result"
    }
   ],
   "source": [
    "ha_assignment = np.ones_like(timetable) * -1   # -1 for debug\n",
    "num_games = 2* (num_teams-1)\n",
    "for t_row in range( num_teams ):\n",
    "    for slot in range( num_games ):\n",
    "        team_1 = t_row + 1\n",
    "        team_2 = timetable[t_row, slot]\n",
    "\n",
    "        #print(team_1, team_2)\n",
    "        if team_1 > team_2:\n",
    "            team_1, team_2 = team_2, team_1     # slot is in the second half of the tournament team1 is greater than team2, switch them\n",
    "            label = str(team_1) + str(team_2)   # create label for lookup\n",
    "\n",
    "            if slot >= num_teams - 1:     # slot is in the second half of the tournament\n",
    "                a = z_labeled[ label ]  # 'a' is the 1 or 0 home assignment value\n",
    "            \n",
    "            else:                       # slot is in the first half of the tournament\n",
    "                a = 1 - z_labeled[ label ]\n",
    "\n",
    "\n",
    "        else:\n",
    "            label = str(team_1) + str(team_2) \n",
    "            \n",
    "            if slot >= num_teams - 1:\n",
    "                a = 1 - z_labeled[ label ]\n",
    "            \n",
    "            else:\n",
    "                a = z_labeled[ label ]\n",
    "        \n",
    "        ha_assignment[t_row, slot] = a #!"
   ]
  },
  {
   "cell_type": "code",
   "execution_count": 66,
   "metadata": {},
   "outputs": [
    {
     "data": {
      "text/plain": [
       "6"
      ]
     },
     "execution_count": 66,
     "metadata": {},
     "output_type": "execute_result"
    }
   ],
   "source": [
    "q = ha_assignment\n",
    "\n",
    "breaks = 0\n",
    "for t_row in range(q.shape[0]):\n",
    "    for slot in range(q.shape[1]-1):\n",
    "        breaks += q[t_row, slot] * q[t_row, slot + 1] + (1 - q[t_row,slot]) * ( 1 - q[t_row, slot + 1])\n"
   ]
  },
  {
   "cell_type": "code",
   "execution_count": 72,
   "metadata": {},
   "outputs": [],
   "source": [
    "def setup_labels(z, num_teams):\n",
    "    combos = []\n",
    "\n",
    "    for i in range(1, num_teams ):\n",
    "        for j in range(i, num_teams + 1):\n",
    "            if i != j:\n",
    "                combos.append( str(i) + str(j) )\n",
    "    return dict( zip(combos, z ) )"
   ]
  },
  {
   "cell_type": "code",
   "execution_count": 76,
   "metadata": {},
   "outputs": [],
   "source": [
    "def ha_assign(timetable, z):\n",
    "\n",
    "    \n",
    "    ha_assignment = np.ones_like(timetable) * -1   # -1 for debug\n",
    "    num_teams = timetable.shape[0]\n",
    "    num_games = 2 * (num_teams-1)\n",
    "\n",
    "    z_labeled = setup_labels(z, num_teams)      # \n",
    "    \n",
    "    for t_row in range( num_teams ):\n",
    "        for slot in range( num_games ):\n",
    "            team_1 = t_row + 1\n",
    "            team_2 = timetable[t_row, slot]\n",
    "\n",
    "            #print(team_1, team_2)\n",
    "            if team_1 > team_2:\n",
    "                team_1, team_2 = team_2, team_1     # slot is in the second half of the tournament team1 is greater than team2, switch them\n",
    "                label = str(team_1) + str(team_2)   # create label for lookup\n",
    "\n",
    "                if slot >= num_teams - 1:     # slot is in the second half of the tournament\n",
    "                    a = z_labeled[ label ]  # 'a' is the 1 or 0 home assignment value\n",
    "                \n",
    "                else:                       # slot is in the first half of the tournament\n",
    "                    a = 1 - z_labeled[ label ]\n",
    "\n",
    "\n",
    "            else:\n",
    "                label = str(team_1) + str(team_2) \n",
    "                \n",
    "                if slot >= num_teams - 1:\n",
    "                    a = 1 - z_labeled[ label ]\n",
    "                \n",
    "                else:\n",
    "                    a = z_labeled[ label ]\n",
    "            \n",
    "            ha_assignment[t_row, slot] = a #!\n",
    "\n",
    "    return ha_assignment"
   ]
  },
  {
   "cell_type": "code",
   "execution_count": 77,
   "metadata": {},
   "outputs": [],
   "source": [
    "def count_breaks(timetable, z):\n",
    "    ha = ha_assign(timetable, z)\n",
    "\n",
    "    breaks = 0\n",
    "    for t_row in range(ha.shape[0]):\n",
    "        for slot in range(ha.shape[1]-1):\n",
    "            breaks += ha[t_row, slot] * ha[t_row, slot + 1] + (1 - ha[t_row,slot]) * ( 1 - ha[t_row, slot + 1])\n",
    "\n",
    "    return breaks"
   ]
  },
  {
   "cell_type": "code",
   "execution_count": 80,
   "metadata": {},
   "outputs": [],
   "source": [
    "breaks_list = []\n",
    "for  z in bitstrings:\n",
    "    breaks_list.append( count_breaks(timetable, z) )\n",
    "\n"
   ]
  },
  {
   "cell_type": "code",
   "execution_count": 108,
   "metadata": {},
   "outputs": [
    {
     "data": {
      "image/png": "[encoded data removed]",
      "text/plain": [
       "<Figure size 576x432 with 1 Axes>"
      ]
     },
     "metadata": {
      "needs_background": "light"
     },
     "output_type": "display_data"
    }
   ],
   "source": [
    "plt.figure(figsize=[8,6])\n",
    "plt.grid()\n",
    "plt.scatter( breaks_list, values )\n",
    "plt.xlabel(\"Number of breaks\", size = 14)\n",
    "plt.ylabel(\"$<E>$\", size = 14)\n",
    "plt.savefig(\"/home/user/mnt/project/src/energy-breaks.png\", dpi = 200)"
   ]
  },
  {
   "cell_type": "code",
   "execution_count": 102,
   "metadata": {},
   "outputs": [
    {
     "data": {
      "text/plain": [
       "(array([12, 13, 17, 18, 19, 21, 25, 29, 34, 38, 42, 44, 45, 46, 50, 51]),)"
      ]
     },
     "execution_count": 102,
     "metadata": {},
     "output_type": "execute_result"
    }
   ],
   "source": [
    "np.where( np.array(breaks_list) == min(breaks_list) )"
   ]
  },
  {
   "cell_type": "code",
   "execution_count": 100,
   "metadata": {},
   "outputs": [
    {
     "data": {
      "text/plain": [
       "14"
      ]
     },
     "execution_count": 100,
     "metadata": {},
     "output_type": "execute_result"
    }
   ],
   "source": [
    "max(breaks_list)"
   ]
  },
  {
   "cell_type": "code",
   "execution_count": 101,
   "metadata": {},
   "outputs": [
    {
     "data": {
      "text/plain": [
       "(6, array([0, 1, 0, 0, 1, 1]))"
      ]
     },
     "execution_count": 101,
     "metadata": {},
     "output_type": "execute_result"
    }
   ],
   "source": [
    "breaks_list[19], bitstrings[19]"
   ]
  }
 ],
 "metadata": {
  "interpreter": {
   "hash": "2f394aca7ca06fed1e6064aef884364492d7cdda3614a461e02e6407fc40ba69"
  },
  "kernelspec": {
   "display_name": "Python 3.9.7 ('base')",
   "language": "python",
   "name": "python3"
  },
  "language_info": {
   "codemirror_mode": {
    "name": "ipython",
    "version": 3
   },
   "file_extension": ".py",
   "mimetype": "text/x-python",
   "name": "python",
   "nbconvert_exporter": "python",
   "pygments_lexer": "ipython3",
   "version": "3.9.7"
  },
  "orig_nbformat": 4
 },
 "nbformat": 4,
 "nbformat_minor": 2
}
