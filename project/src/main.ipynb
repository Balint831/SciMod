{
 "cells": [
  {
   "cell_type": "code",
   "execution_count": 1,
   "metadata": {},
   "outputs": [],
   "source": [
    "import matplotlib.pyplot as plt\n",
    "#from qubo_divided import solve_qubo_by_dividing\n",
    "\n",
    "\n",
    "import numpy as np\n",
    "\n",
    "import itertools\n",
    "\n",
    "def calculate_QUBO_explicitely(Q):\n",
    "    d = len(Q)\n",
    "\n",
    "    bitstrings = list(map(np.array, list(itertools.product([0, 1], repeat=d))))\n",
    "\n",
    "    values = []\n",
    "\n",
    "    for bitstring in bitstrings:\n",
    "        values.append(bitstring @ Q @ bitstring)\n",
    "\n",
    "    return values#, bitstrings[np.argmin(values)]\n",
    "\n",
    "\n",
    "\n",
    "\n",
    "#2 * np.random.rand(d, d) - 1"
   ]
  },
  {
   "cell_type": "markdown",
   "metadata": {},
   "source": [
    "# Explicit method runtimes"
   ]
  },
  {
   "cell_type": "code",
   "execution_count": 14,
   "metadata": {},
   "outputs": [
    {
     "name": "stdout",
     "output_type": "stream",
     "text": [
      "0.14136815071105957\n",
      "0.2675588130950928\n",
      "0.5482161045074463\n",
      "1.1478629112243652\n",
      "2.3367791175842285\n",
      "4.659264087677002\n",
      "9.54183030128479\n",
      "19.17251467704773\n",
      "40.05858612060547\n",
      "218.37013959884644\n"
     ]
    },
    {
     "ename": "KeyboardInterrupt",
     "evalue": "",
     "output_type": "error",
     "traceback": [
      "\u001b[0;31m---------------------------------------------------------------------------\u001b[0m",
      "\u001b[0;31mKeyboardInterrupt\u001b[0m                         Traceback (most recent call last)",
      "\u001b[1;32m/home/user/mnt/project/src/main.ipynb Cell 2'\u001b[0m in \u001b[0;36m<cell line: 6>\u001b[0;34m()\u001b[0m\n\u001b[1;32m      <a href='vscode-notebook-cell://attached-container%2B7b22636f6e7461696e65724e616d65223a222f65616765725f72696465227d/home/user/mnt/project/src/main.ipynb#ch0000001vscode-remote?line=7'>8</a>\u001b[0m b_symm \u001b[39m=\u001b[39m (b \u001b[39m+\u001b[39m b\u001b[39m.\u001b[39mT)\u001b[39m/\u001b[39m\u001b[39m2\u001b[39m\n\u001b[1;32m      <a href='vscode-notebook-cell://attached-container%2B7b22636f6e7461696e65724e616d65223a222f65616765725f72696465227d/home/user/mnt/project/src/main.ipynb#ch0000001vscode-remote?line=8'>9</a>\u001b[0m t1 \u001b[39m=\u001b[39m time\u001b[39m.\u001b[39mtime()\n\u001b[0;32m---> <a href='vscode-notebook-cell://attached-container%2B7b22636f6e7461696e65724e616d65223a222f65616765725f72696465227d/home/user/mnt/project/src/main.ipynb#ch0000001vscode-remote?line=9'>10</a>\u001b[0m calculate_QUBO_explicitely(b_symm)\n\u001b[1;32m     <a href='vscode-notebook-cell://attached-container%2B7b22636f6e7461696e65724e616d65223a222f65616765725f72696465227d/home/user/mnt/project/src/main.ipynb#ch0000001vscode-remote?line=10'>11</a>\u001b[0m times\u001b[39m.\u001b[39mappend(time\u001b[39m.\u001b[39mtime() \u001b[39m-\u001b[39m t1)\n\u001b[1;32m     <a href='vscode-notebook-cell://attached-container%2B7b22636f6e7461696e65724e616d65223a222f65616765725f72696465227d/home/user/mnt/project/src/main.ipynb#ch0000001vscode-remote?line=11'>12</a>\u001b[0m \u001b[39mprint\u001b[39m(time\u001b[39m.\u001b[39mtime()\u001b[39m-\u001b[39mt1)\n",
      "\u001b[1;32m/home/user/mnt/project/src/main.ipynb Cell 1'\u001b[0m in \u001b[0;36mcalculate_QUBO_explicitely\u001b[0;34m(Q)\u001b[0m\n\u001b[1;32m      <a href='vscode-notebook-cell://attached-container%2B7b22636f6e7461696e65724e616d65223a222f65616765725f72696465227d/home/user/mnt/project/src/main.ipynb#ch0000000vscode-remote?line=8'>9</a>\u001b[0m \u001b[39mdef\u001b[39;00m \u001b[39mcalculate_QUBO_explicitely\u001b[39m(Q):\n\u001b[1;32m     <a href='vscode-notebook-cell://attached-container%2B7b22636f6e7461696e65724e616d65223a222f65616765725f72696465227d/home/user/mnt/project/src/main.ipynb#ch0000000vscode-remote?line=9'>10</a>\u001b[0m     d \u001b[39m=\u001b[39m \u001b[39mlen\u001b[39m(Q)\n\u001b[0;32m---> <a href='vscode-notebook-cell://attached-container%2B7b22636f6e7461696e65724e616d65223a222f65616765725f72696465227d/home/user/mnt/project/src/main.ipynb#ch0000000vscode-remote?line=11'>12</a>\u001b[0m     bitstrings \u001b[39m=\u001b[39m \u001b[39mlist\u001b[39;49m(\u001b[39mmap\u001b[39;49m(np\u001b[39m.\u001b[39;49marray, \u001b[39mlist\u001b[39;49m(itertools\u001b[39m.\u001b[39;49mproduct([\u001b[39m0\u001b[39;49m, \u001b[39m1\u001b[39;49m], repeat\u001b[39m=\u001b[39;49md))))\n\u001b[1;32m     <a href='vscode-notebook-cell://attached-container%2B7b22636f6e7461696e65724e616d65223a222f65616765725f72696465227d/home/user/mnt/project/src/main.ipynb#ch0000000vscode-remote?line=13'>14</a>\u001b[0m     values \u001b[39m=\u001b[39m []\n\u001b[1;32m     <a href='vscode-notebook-cell://attached-container%2B7b22636f6e7461696e65724e616d65223a222f65616765725f72696465227d/home/user/mnt/project/src/main.ipynb#ch0000000vscode-remote?line=15'>16</a>\u001b[0m     \u001b[39mfor\u001b[39;00m bitstring \u001b[39min\u001b[39;00m bitstrings:\n",
      "\u001b[0;31mKeyboardInterrupt\u001b[0m: "
     ]
    }
   ],
   "source": [
    "import time \n",
    "\n",
    "mtx_size = range(15, 24)\n",
    "times = []\n",
    "\n",
    "for N in mtx_size:\n",
    "    b = np.random.randint(-2000,2000,size=(N,N))\n",
    "    b_symm = (b + b.T)/2\n",
    "    t1 = time.time()\n",
    "    calculate_QUBO_explicitely(b_symm)\n",
    "    times.append(time.time() - t1)\n",
    "    print(time.time()-t1)"
   ]
  },
  {
   "cell_type": "code",
   "execution_count": 54,
   "metadata": {},
   "outputs": [],
   "source": [
    "best_cut = [0, 1, 1, 1, 1, 1, 0, 0, 0, 0, 1, 1, 0, 1, 1, 0, 1, 0, 1, 0]\n",
    "\n",
    "def cut(Q):\n",
    "    for i in range(Q.shape[0]):\n",
    "        for j in range(Q.shape[1]):\n",
    "\n",
    "            if best_cut[i] != best_cut[j]:\n",
    "            #if i== j:\n",
    "                Q[i,j] = 0"
   ]
  },
  {
   "cell_type": "code",
   "execution_count": 56,
   "metadata": {},
   "outputs": [
    {
     "data": {
      "image/png": "[encoded data removed]",
      "text/plain": [
       "<Figure size 432x288 with 1 Axes>"
      ]
     },
     "metadata": {},
     "output_type": "display_data"
    }
   ],
   "source": [
    "import networkx as nx\n",
    "G = nx.from_numpy_array(Q)\n",
    "#pos = nx.spring_layout(G)\n",
    "color_dict = {1:\"tab:red\", 0: \"tab:blue\" }\n",
    "nx.draw(G, pos = pos, node_color = [ color_dict[e] for e in best_cut] )"
   ]
  },
  {
   "cell_type": "code",
   "execution_count": 42,
   "metadata": {},
   "outputs": [
    {
     "data": {
      "text/plain": [
       "array([[0., 1., 1., 1., 1., 1., 1., 1., 1., 1., 1., 1., 0., 0., 0., 0.,\n",
       "        0., 0., 1., 0.],\n",
       "       [1., 0., 0., 0., 0., 0., 1., 1., 1., 0., 1., 0., 1., 0., 0., 0.,\n",
       "        0., 1., 1., 1.],\n",
       "       [1., 0., 0., 0., 0., 0., 1., 1., 0., 1., 0., 1., 0., 0., 0., 1.,\n",
       "        0., 0., 0., 0.],\n",
       "       [1., 0., 0., 0., 0., 0., 1., 1., 1., 1., 0., 0., 1., 1., 0., 0.,\n",
       "        0., 0., 1., 0.],\n",
       "       [1., 0., 0., 0., 0., 0., 0., 0., 0., 0., 0., 0., 0., 0., 0., 0.,\n",
       "        0., 0., 0., 0.],\n",
       "       [1., 0., 0., 0., 0., 0., 1., 1., 0., 1., 0., 0., 0., 0., 1., 1.,\n",
       "        1., 0., 0., 0.],\n",
       "       [1., 1., 1., 1., 0., 1., 0., 0., 1., 0., 0., 1., 0., 1., 0., 1.,\n",
       "        1., 0., 1., 0.],\n",
       "       [1., 1., 1., 1., 0., 1., 0., 0., 1., 1., 1., 1., 1., 1., 1., 0.,\n",
       "        1., 1., 0., 0.],\n",
       "       [1., 1., 0., 1., 0., 0., 1., 1., 0., 0., 1., 1., 0., 1., 1., 1.,\n",
       "        0., 0., 0., 0.],\n",
       "       [1., 0., 1., 1., 0., 1., 0., 1., 0., 0., 1., 0., 1., 0., 0., 0.,\n",
       "        1., 0., 0., 0.],\n",
       "       [1., 1., 0., 0., 0., 0., 0., 1., 1., 1., 0., 0., 1., 1., 0., 0.,\n",
       "        0., 1., 0., 1.],\n",
       "       [1., 0., 1., 0., 0., 0., 1., 1., 1., 0., 0., 0., 0., 0., 1., 1.,\n",
       "        1., 1., 0., 0.],\n",
       "       [0., 1., 0., 1., 0., 0., 0., 1., 0., 1., 1., 0., 0., 0., 1., 0.,\n",
       "        0., 0., 1., 1.],\n",
       "       [0., 0., 0., 1., 0., 0., 1., 1., 1., 0., 1., 0., 0., 0., 0., 0.,\n",
       "        0., 1., 0., 0.],\n",
       "       [0., 0., 0., 0., 0., 1., 0., 1., 1., 0., 0., 1., 1., 0., 0., 0.,\n",
       "        0., 0., 0., 0.],\n",
       "       [0., 0., 1., 0., 0., 1., 1., 0., 1., 0., 0., 1., 0., 0., 0., 0.,\n",
       "        0., 0., 0., 1.],\n",
       "       [0., 0., 0., 0., 0., 1., 1., 1., 0., 1., 0., 1., 0., 0., 0., 0.,\n",
       "        0., 0., 0., 0.],\n",
       "       [0., 1., 0., 0., 0., 0., 0., 1., 0., 0., 1., 1., 0., 1., 0., 0.,\n",
       "        0., 0., 0., 0.],\n",
       "       [1., 1., 0., 1., 0., 0., 1., 0., 0., 0., 0., 0., 1., 0., 0., 0.,\n",
       "        0., 0., 0., 1.],\n",
       "       [0., 1., 0., 0., 0., 0., 0., 0., 0., 0., 1., 0., 1., 0., 0., 1.,\n",
       "        0., 0., 1., 0.]])"
      ]
     },
     "execution_count": 42,
     "metadata": {},
     "output_type": "execute_result"
    }
   ],
   "source": [
    "#nx.to_numpy_array()\n",
    "\n",
    "for i in range()"
   ]
  },
  {
   "cell_type": "code",
   "execution_count": 51,
   "metadata": {},
   "outputs": [],
   "source": [
    "Q = np.loadtxt(\"barabasi_adj.txt\", delimiter=\",\")\n",
    "#energies = calculate_QUBO_explicitely(Q)\n"
   ]
  },
  {
   "cell_type": "code",
   "execution_count": 30,
   "metadata": {},
   "outputs": [
    {
     "data": {
      "text/plain": [
       "Text(0, 0.5, '$\\\\rho$(E)')"
      ]
     },
     "execution_count": 30,
     "metadata": {},
     "output_type": "execute_result"
    },
    {
     "data": {
      "image/png": "[encoded data removed]",
      "text/plain": [
       "<Figure size 576x432 with 1 Axes>"
      ]
     },
     "metadata": {
      "needs_background": "light"
     },
     "output_type": "display_data"
    }
   ],
   "source": [
    "plt.figure(figsize=(8,6))\n",
    "plt.hist(energies,bins = 50, density=True)\n",
    "plt.grid()\n",
    "plt.title(\"Energy (=cut) distribution of $2^{20}$ qubits\",size=16)\n",
    "plt.xlabel(\"E\",size=14)\n",
    "plt.ylabel(r\"$\\rho$(E)\",size=14)"
   ]
  },
  {
   "cell_type": "markdown",
   "metadata": {},
   "source": [
    "# "
   ]
  },
  {
   "cell_type": "markdown",
   "metadata": {},
   "source": [
    "# General symmteric matrix"
   ]
  },
  {
   "cell_type": "code",
   "execution_count": 5,
   "metadata": {},
   "outputs": [],
   "source": [
    "d = 3\n",
    "\n",
    "A, B, C, D, E, F = 5, 4, 2, 3, 1, 0\n",
    "\n",
    "\n",
    "Q = np.array([  [ A, B, C], \n",
    "                [ B, D, E],\n",
    "                [ C, E, F]])"
   ]
  },
  {
   "cell_type": "markdown",
   "metadata": {},
   "source": [
    "# HA-assignment for 4 teams"
   ]
  },
  {
   "cell_type": "code",
   "execution_count": 2,
   "metadata": {},
   "outputs": [],
   "source": [
    "Q = np.array(  [[ 0, 2,-1, 1,-2, 0],\n",
    "                [ 2,-4, 2, 2, 0,-2],\n",
    "                [-1, 2,-2, 0, 2,-1],\n",
    "                [ 1, 2, 0,-6, 2, 1],\n",
    "                [-2, 0, 2, 2,-4, 2],\n",
    "                [ 0,-2,-1, 2, 2, 0]]) \n",
    "\n",
    "d = 6"
   ]
  },
  {
   "cell_type": "code",
   "execution_count": 6,
   "metadata": {},
   "outputs": [
    {
     "name": "stdout",
     "output_type": "stream",
     "text": [
      "parity: 0\n",
      "parity: 1\n"
     ]
    },
    {
     "data": {
      "image/png": "[encoded data removed]",
      "text/plain": [
       "<Figure size 432x288 with 1 Axes>"
      ]
     },
     "metadata": {
      "needs_background": "light"
     },
     "output_type": "display_data"
    },
    {
     "name": "stdout",
     "output_type": "stream",
     "text": [
      "[[ 0  2 -1  1 -2  0]\n",
      " [ 2 -4  2  2  0 -2]\n",
      " [-1  2 -2  0  2 -1]\n",
      " [ 1  2  0 -6  2  1]\n",
      " [-2  0  2  2 -4  2]\n",
      " [ 0 -2 -1  2  2  0]]\n",
      "Exact solution: [0, 0, -4, 0, -6, -3, -6, 1, -2, -4, -2, 0, -8, -7, -4, 1, -4, -8, -8, -8, -6, -7, -6, -3, -2, -8, -2, -4, -4, -7, 0, 1, 0, 0, -8, -4, -4, -1, -8, -1, -4, -6, -8, -6, -8, -7, -8, -3, 0, -4, -8, -8, 0, -1, -4, -1, 0, -6, -4, -6, 0, -3, 0, 1]\n"
     ]
    }
   ],
   "source": [
    "\n",
    "from qubo_divided import solve_qubo_by_dividing\n",
    "min_energy, min_bistring = solve_qubo_by_dividing(\n",
    "    Q,\n",
    "    learning_rate=0.01,\n",
    "    shots=60,\n",
    "    updates=150,\n",
    "    d_per_computer=d,\n",
    ")\n",
    "\n",
    "print(Q)\n",
    "#print(\"Algo:\", min_energy, min_bistring)\n",
    "\n",
    "\n",
    "\n",
    "\n",
    "\n",
    "print(\"Exact solution:\", calculate_QUBO_explicitely(Q))"
   ]
  },
  {
   "cell_type": "code",
   "execution_count": 19,
   "metadata": {},
   "outputs": [],
   "source": [
    "d = 6\n",
    "\n",
    "bitstrings = list(map(np.array, list(itertools.product([0, 1], repeat=d))))\n",
    "\n",
    "values = []\n",
    "\n",
    "for bitstring in bitstrings:\n",
    "    values.append(bitstring @ Q @ bitstring)\n"
   ]
  },
  {
   "cell_type": "code",
   "execution_count": 20,
   "metadata": {},
   "outputs": [
    {
     "name": "stdout",
     "output_type": "stream",
     "text": [
      "[array([0, 0, 1, 1, 0, 0]), array([0, 1, 0, 0, 0, 1]), array([0, 1, 0, 0, 1, 0]), array([0, 1, 0, 0, 1, 1]), array([0, 1, 1, 0, 0, 1]), array([1, 0, 0, 0, 1, 0]), array([1, 0, 0, 1, 1, 0]), array([1, 0, 1, 0, 1, 0]), array([1, 0, 1, 1, 0, 0]), array([1, 0, 1, 1, 1, 0]), array([1, 1, 0, 0, 1, 0]), array([1, 1, 0, 0, 1, 1])]\n",
      "[-8, -8, -8, -8, -8, -8, -8, -8, -8, -8, -8, -8]\n"
     ]
    }
   ],
   "source": [
    "print( [ bitstrings[idx] for idx in np.where( values == min(values) )[0] ])\n",
    "print( [ values[idx] for idx in np.where( values == min(values) )[0] ])"
   ]
  },
  {
   "cell_type": "code",
   "execution_count": 21,
   "metadata": {},
   "outputs": [],
   "source": [
    "z = np.array([1,0,0,1,0,0])"
   ]
  },
  {
   "cell_type": "code",
   "execution_count": 22,
   "metadata": {},
   "outputs": [],
   "source": [
    "def setup_labels(z, num_teams):\n",
    "    '''\n",
    "    create dict of team pair - z value eg. { \"12\" : z_1, \"13\" : z_2 ...}\n",
    "\n",
    "    z - iterable: \n",
    "    num_teams - int: \n",
    "    '''\n",
    "    \n",
    "    combos = []\n",
    "\n",
    "    for i in range(0, num_teams - 1 ):\n",
    "        for j in range(i, num_teams):\n",
    "            if i != j:\n",
    "                combos.append( str(i) + str(j) )\n",
    "    return dict( zip(combos, z ) )"
   ]
  },
  {
   "cell_type": "code",
   "execution_count": 7,
   "metadata": {},
   "outputs": [
    {
     "data": {
      "text/plain": [
       "{'01': 1, '02': 0, '03': 0, '12': 1, '13': 0, '23': 0}"
      ]
     },
     "execution_count": 7,
     "metadata": {},
     "output_type": "execute_result"
    }
   ],
   "source": [
    "setup_labels(z, 4)      "
   ]
  },
  {
   "cell_type": "code",
   "execution_count": 57,
   "metadata": {},
   "outputs": [],
   "source": [
    "from copy import copy\n",
    "\n",
    "def ha_assign(timetable, z):\n",
    "\n",
    "    assert isinstance(timetable,np.ndarray), \"Timetable must be of type np.ndarray\"\n",
    "\n",
    "    ha_assignment = (np.ones_like(timetable) * -1)   # -1 for debug\n",
    "    num_teams = timetable.shape[0]\n",
    "    num_games = 2 * (num_teams-1)\n",
    "    \n",
    "    assert num_teams * (num_teams  - 1)/2 == len(z), \"z vector not compatible with number of teams\"\n",
    "    z_labeled = setup_labels(z, num_teams)      \n",
    "    \n",
    "    for t_row in range( num_teams ):\n",
    "        for slot in range( num_games ):\n",
    "            team_1 = copy(t_row)\n",
    "            team_2 = timetable[t_row, slot]\n",
    "\n",
    "            #print(team_1, team_2)\n",
    "            if team_1 > team_2:\n",
    "                team_1, team_2 = team_2, team_1     # slot is in the second half of the tournament team1 is greater than team2, switch them\n",
    "                label = str(team_1) + str(team_2)   # create label for lookup\n",
    "                #print(label + \"if\")\n",
    "                if slot >= (num_teams - 1):       # slot is in the second half of the tournament\n",
    "                    a = z_labeled[ label ]      # 'a' is the 1 or 0 home assignment value,      y_t',s' = z\n",
    "                \n",
    "                else:                           # slot is in the first half of the tournament\n",
    "                    a = 1 - z_labeled[ label ]                                                # y_t',s  = 1-z\n",
    "                \n",
    "\n",
    "            else:                                   # the order of teams matches the label\n",
    "                label = str(team_1) + str(team_2)\n",
    "                #print(label + \"else\")\n",
    "                \n",
    "                if slot >= (num_teams - 1):       # slot is in the second half of the tournament\n",
    "                    a =  1 - z_labeled[ label ]                                                # y_t,s' = 1-z\n",
    "                \n",
    "                else:                           # slot in the first half of the tournament\n",
    "                    a = z_labeled[ label ]                                                    # y_t,s  = z\n",
    "                \n",
    "            \n",
    "            ha_assignment[t_row, slot] = a #!\n",
    "\n",
    "    return ha_assignment"
   ]
  },
  {
   "cell_type": "code",
   "execution_count": 58,
   "metadata": {},
   "outputs": [
    {
     "name": "stdout",
     "output_type": "stream",
     "text": [
      "[[0 0 0 1 1 1]\n",
      " [1 0 0 0 1 1]\n",
      " [0 1 1 1 0 0]\n",
      " [1 1 1 0 0 0]] \n",
      "\n",
      " [[1 2 3 1 2 3]\n",
      " [0 3 2 0 3 2]\n",
      " [3 0 1 3 0 1]\n",
      " [2 1 0 2 1 0]]\n"
     ]
    }
   ],
   "source": [
    "timetable = np.array([[2,3,4,2,3,4],\n",
    "                      [1,4,3,1,4,3],\n",
    "                      [4,1,2,4,1,2],\n",
    "                      [3,2,1,3,2,1]])\n",
    "\n",
    "ha = ha_assign(timetable - 1 , np.array([0,0,0,0,0,0]))\n",
    "print(ha, \"\\n\\n\",timetable -1)"
   ]
  },
  {
   "cell_type": "code",
   "execution_count": 59,
   "metadata": {},
   "outputs": [],
   "source": [
    "def count_breaks(timetable, z):\n",
    "    ha = ha_assign(timetable, z)\n",
    "\n",
    "    breaks = 0\n",
    "    for t_row in range(ha.shape[0]):\n",
    "        for slot in range(ha.shape[1]-1):\n",
    "            breaks += ha[t_row, slot] * ha[t_row, slot + 1] + (1 - ha[t_row,slot]) * ( 1 - ha[t_row, slot + 1])\n",
    "\n",
    "    return breaks"
   ]
  },
  {
   "cell_type": "code",
   "execution_count": 60,
   "metadata": {},
   "outputs": [],
   "source": [
    "\n",
    "z = bitstrings[17]\n",
    "\n",
    "#count_breaks(tt, )"
   ]
  },
  {
   "cell_type": "code",
   "execution_count": 61,
   "metadata": {},
   "outputs": [
    {
     "data": {
      "text/plain": [
       "'tt2 = np.array([[2,3,4,5,6,2,3,4,5,6],\\n                 [1,5,6,4,3,1,5,6,4,3],\\n                 [4,1,5,6,2,4,1,5,6,2],\\n                 [3,6,1,2,5,3,6,1,2,5],\\n                 [6,2,3,1,4,6,2,3,1,4],\\n                 [5,4,2,3,1,5,4,2,3,1]])\\n\\nha_assign(tt2, np.ones(15))'"
      ]
     },
     "execution_count": 61,
     "metadata": {},
     "output_type": "execute_result"
    }
   ],
   "source": [
    "\"\"\"tt2 = np.array([[2,3,4,5,6,2,3,4,5,6],\n",
    "                 [1,5,6,4,3,1,5,6,4,3],\n",
    "                 [4,1,5,6,2,4,1,5,6,2],\n",
    "                 [3,6,1,2,5,3,6,1,2,5],\n",
    "                 [6,2,3,1,4,6,2,3,1,4],\n",
    "                 [5,4,2,3,1,5,4,2,3,1]])\n",
    "\n",
    "ha_assign(tt2, np.ones(15))\"\"\""
   ]
  },
  {
   "cell_type": "code",
   "execution_count": 62,
   "metadata": {},
   "outputs": [],
   "source": [
    "breaks_list = []\n",
    "for  z in bitstrings:\n",
    "    breaks_list.append( count_breaks(timetable -1 , z) )\n",
    "\n"
   ]
  },
  {
   "cell_type": "code",
   "execution_count": 63,
   "metadata": {},
   "outputs": [
    {
     "data": {
      "text/plain": [
       "[<matplotlib.lines.Line2D at 0x7f071c36b280>]"
      ]
     },
     "execution_count": 63,
     "metadata": {},
     "output_type": "execute_result"
    },
    {
     "data": {
      "image/png": "[encoded data removed]",
      "text/plain": [
       "<Figure size 576x432 with 1 Axes>"
      ]
     },
     "metadata": {
      "needs_background": "light"
     },
     "output_type": "display_data"
    }
   ],
   "source": [
    " \n",
    "\n",
    "plt.figure(figsize=[8,6])\n",
    "plt.grid()\n",
    "plt.scatter( breaks_list, np.array(values) + 0.3 * np.random.normal(size = np.array(values).shape), alpha = .4, color = \"black\")\n",
    "plt.xlabel(\"Number of breaks\", size = 14)\n",
    "plt.ylabel(\"$<E>$\", size = 14)\n",
    "\n",
    "popt = np.polyfit(breaks_list, values, 1)\n",
    "_t = np.linspace(min(breaks_list) - 1, max(breaks_list) + 1, 100)\n",
    "plt.plot(_t, popt[0] * _t + popt[1], color = \"tab:red\")\n",
    "#plt.savefig(\"/home/user/mnt/project/src/energy-breaks4.png\", dpi = 200)    "
   ]
  },
  {
   "cell_type": "code",
   "execution_count": 31,
   "metadata": {},
   "outputs": [
    {
     "data": {
      "text/html": [
       "<div>\n",
       "<style scoped>\n",
       "    .dataframe tbody tr th:only-of-type {\n",
       "        vertical-align: middle;\n",
       "    }\n",
       "\n",
       "    .dataframe tbody tr th {\n",
       "        vertical-align: top;\n",
       "    }\n",
       "\n",
       "    .dataframe thead th {\n",
       "        text-align: right;\n",
       "    }\n",
       "</style>\n",
       "<table border=\"1\" class=\"dataframe\">\n",
       "  <thead>\n",
       "    <tr style=\"text-align: right;\">\n",
       "      <th></th>\n",
       "      <th>breaks_list</th>\n",
       "      <th>energy</th>\n",
       "      <th>bitstrings</th>\n",
       "    </tr>\n",
       "  </thead>\n",
       "  <tbody>\n",
       "    <tr>\n",
       "      <th>0</th>\n",
       "      <td>14</td>\n",
       "      <td>0</td>\n",
       "      <td>[0, 0, 0, 0, 0, 0]</td>\n",
       "    </tr>\n",
       "    <tr>\n",
       "      <th>1</th>\n",
       "      <td>14</td>\n",
       "      <td>0</td>\n",
       "      <td>[0, 0, 0, 0, 0, 1]</td>\n",
       "    </tr>\n",
       "    <tr>\n",
       "      <th>2</th>\n",
       "      <td>10</td>\n",
       "      <td>-4</td>\n",
       "      <td>[0, 0, 0, 0, 1, 0]</td>\n",
       "    </tr>\n",
       "    <tr>\n",
       "      <th>3</th>\n",
       "      <td>14</td>\n",
       "      <td>4</td>\n",
       "      <td>[0, 0, 0, 0, 1, 1]</td>\n",
       "    </tr>\n",
       "    <tr>\n",
       "      <th>4</th>\n",
       "      <td>8</td>\n",
       "      <td>-6</td>\n",
       "      <td>[0, 0, 0, 1, 0, 0]</td>\n",
       "    </tr>\n",
       "    <tr>\n",
       "      <th>...</th>\n",
       "      <td>...</td>\n",
       "      <td>...</td>\n",
       "      <td>...</td>\n",
       "    </tr>\n",
       "    <tr>\n",
       "      <th>59</th>\n",
       "      <td>8</td>\n",
       "      <td>6</td>\n",
       "      <td>[1, 1, 1, 0, 1, 1]</td>\n",
       "    </tr>\n",
       "    <tr>\n",
       "      <th>60</th>\n",
       "      <td>14</td>\n",
       "      <td>8</td>\n",
       "      <td>[1, 1, 1, 1, 0, 0]</td>\n",
       "    </tr>\n",
       "    <tr>\n",
       "      <th>61</th>\n",
       "      <td>10</td>\n",
       "      <td>2</td>\n",
       "      <td>[1, 1, 1, 1, 0, 1]</td>\n",
       "    </tr>\n",
       "    <tr>\n",
       "      <th>62</th>\n",
       "      <td>14</td>\n",
       "      <td>20</td>\n",
       "      <td>[1, 1, 1, 1, 1, 0]</td>\n",
       "    </tr>\n",
       "    <tr>\n",
       "      <th>63</th>\n",
       "      <td>14</td>\n",
       "      <td>22</td>\n",
       "      <td>[1, 1, 1, 1, 1, 1]</td>\n",
       "    </tr>\n",
       "  </tbody>\n",
       "</table>\n",
       "<p>64 rows × 3 columns</p>\n",
       "</div>"
      ],
      "text/plain": [
       "    breaks_list  energy          bitstrings\n",
       "0            14       0  [0, 0, 0, 0, 0, 0]\n",
       "1            14       0  [0, 0, 0, 0, 0, 1]\n",
       "2            10      -4  [0, 0, 0, 0, 1, 0]\n",
       "3            14       4  [0, 0, 0, 0, 1, 1]\n",
       "4             8      -6  [0, 0, 0, 1, 0, 0]\n",
       "..          ...     ...                 ...\n",
       "59            8       6  [1, 1, 1, 0, 1, 1]\n",
       "60           14       8  [1, 1, 1, 1, 0, 0]\n",
       "61           10       2  [1, 1, 1, 1, 0, 1]\n",
       "62           14      20  [1, 1, 1, 1, 1, 0]\n",
       "63           14      22  [1, 1, 1, 1, 1, 1]\n",
       "\n",
       "[64 rows x 3 columns]"
      ]
     },
     "execution_count": 31,
     "metadata": {},
     "output_type": "execute_result"
    }
   ],
   "source": [
    "import pandas as pd\n",
    "df = pd.DataFrame()\n",
    "df[\"breaks_list\"] = breaks_list\n",
    "df[\"energy\"] = values\n",
    "df[\"bitstrings\"] = bitstrings\n",
    "df"
   ]
  },
  {
   "cell_type": "code",
   "execution_count": 29,
   "metadata": {},
   "outputs": [
    {
     "data": {
      "application/vnd.plotly.v1+json": {
       "config": {
        "plotlyServerURL": "https://plot.ly"
       },
       "data": [
        {
         "customdata": [
          [
           [
            0,
            0,
            0,
            0,
            0,
            0
           ]
          ],
          [
           [
            0,
            0,
            0,
            0,
            0,
            1
           ]
          ],
          [
           [
            0,
            0,
            0,
            0,
            1,
            0
           ]
          ],
          [
           [
            0,
            0,
            0,
            0,
            1,
            1
           ]
          ],
          [
           [
            0,
            0,
            0,
            1,
            0,
            0
           ]
          ],
          [
           [
            0,
            0,
            0,
            1,
            0,
            1
           ]
          ],
          [
           [
            0,
            0,
            0,
            1,
            1,
            0
           ]
          ],
          [
           [
            0,
            0,
            0,
            1,
            1,
            1
           ]
          ],
          [
           [
            0,
            0,
            1,
            0,
            0,
            0
           ]
          ],
          [
           [
            0,
            0,
            1,
            0,
            0,
            1
           ]
          ],
          [
           [
            0,
            0,
            1,
            0,
            1,
            0
           ]
          ],
          [
           [
            0,
            0,
            1,
            0,
            1,
            1
           ]
          ],
          [
           [
            0,
            0,
            1,
            1,
            0,
            0
           ]
          ],
          [
           [
            0,
            0,
            1,
            1,
            0,
            1
           ]
          ],
          [
           [
            0,
            0,
            1,
            1,
            1,
            0
           ]
          ],
          [
           [
            0,
            0,
            1,
            1,
            1,
            1
           ]
          ],
          [
           [
            0,
            1,
            0,
            0,
            0,
            0
           ]
          ],
          [
           [
            0,
            1,
            0,
            0,
            0,
            1
           ]
          ],
          [
           [
            0,
            1,
            0,
            0,
            1,
            0
           ]
          ],
          [
           [
            0,
            1,
            0,
            0,
            1,
            1
           ]
          ],
          [
           [
            0,
            1,
            0,
            1,
            0,
            0
           ]
          ],
          [
           [
            0,
            1,
            0,
            1,
            0,
            1
           ]
          ],
          [
           [
            0,
            1,
            0,
            1,
            1,
            0
           ]
          ],
          [
           [
            0,
            1,
            0,
            1,
            1,
            1
           ]
          ],
          [
           [
            0,
            1,
            1,
            0,
            0,
            0
           ]
          ],
          [
           [
            0,
            1,
            1,
            0,
            0,
            1
           ]
          ],
          [
           [
            0,
            1,
            1,
            0,
            1,
            0
           ]
          ],
          [
           [
            0,
            1,
            1,
            0,
            1,
            1
           ]
          ],
          [
           [
            0,
            1,
            1,
            1,
            0,
            0
           ]
          ],
          [
           [
            0,
            1,
            1,
            1,
            0,
            1
           ]
          ],
          [
           [
            0,
            1,
            1,
            1,
            1,
            0
           ]
          ],
          [
           [
            0,
            1,
            1,
            1,
            1,
            1
           ]
          ],
          [
           [
            1,
            0,
            0,
            0,
            0,
            0
           ]
          ],
          [
           [
            1,
            0,
            0,
            0,
            0,
            1
           ]
          ],
          [
           [
            1,
            0,
            0,
            0,
            1,
            0
           ]
          ],
          [
           [
            1,
            0,
            0,
            0,
            1,
            1
           ]
          ],
          [
           [
            1,
            0,
            0,
            1,
            0,
            0
           ]
          ],
          [
           [
            1,
            0,
            0,
            1,
            0,
            1
           ]
          ],
          [
           [
            1,
            0,
            0,
            1,
            1,
            0
           ]
          ],
          [
           [
            1,
            0,
            0,
            1,
            1,
            1
           ]
          ],
          [
           [
            1,
            0,
            1,
            0,
            0,
            0
           ]
          ],
          [
           [
            1,
            0,
            1,
            0,
            0,
            1
           ]
          ],
          [
           [
            1,
            0,
            1,
            0,
            1,
            0
           ]
          ],
          [
           [
            1,
            0,
            1,
            0,
            1,
            1
           ]
          ],
          [
           [
            1,
            0,
            1,
            1,
            0,
            0
           ]
          ],
          [
           [
            1,
            0,
            1,
            1,
            0,
            1
           ]
          ],
          [
           [
            1,
            0,
            1,
            1,
            1,
            0
           ]
          ],
          [
           [
            1,
            0,
            1,
            1,
            1,
            1
           ]
          ],
          [
           [
            1,
            1,
            0,
            0,
            0,
            0
           ]
          ],
          [
           [
            1,
            1,
            0,
            0,
            0,
            1
           ]
          ],
          [
           [
            1,
            1,
            0,
            0,
            1,
            0
           ]
          ],
          [
           [
            1,
            1,
            0,
            0,
            1,
            1
           ]
          ],
          [
           [
            1,
            1,
            0,
            1,
            0,
            0
           ]
          ],
          [
           [
            1,
            1,
            0,
            1,
            0,
            1
           ]
          ],
          [
           [
            1,
            1,
            0,
            1,
            1,
            0
           ]
          ],
          [
           [
            1,
            1,
            0,
            1,
            1,
            1
           ]
          ],
          [
           [
            1,
            1,
            1,
            0,
            0,
            0
           ]
          ],
          [
           [
            1,
            1,
            1,
            0,
            0,
            1
           ]
          ],
          [
           [
            1,
            1,
            1,
            0,
            1,
            0
           ]
          ],
          [
           [
            1,
            1,
            1,
            0,
            1,
            1
           ]
          ],
          [
           [
            1,
            1,
            1,
            1,
            0,
            0
           ]
          ],
          [
           [
            1,
            1,
            1,
            1,
            0,
            1
           ]
          ],
          [
           [
            1,
            1,
            1,
            1,
            1,
            0
           ]
          ],
          [
           [
            1,
            1,
            1,
            1,
            1,
            1
           ]
          ]
         ],
         "hovertemplate": "x=%{x}<br>y=%{y}<br>hover_data_0=%{customdata[0]}<extra></extra>",
         "legendgroup": "",
         "marker": {
          "color": "#636efa",
          "symbol": "circle"
         },
         "mode": "markers",
         "name": "",
         "orientation": "v",
         "showlegend": false,
         "type": "scatter",
         "x": [
          14,
          14,
          10,
          14,
          8,
          10,
          8,
          14,
          12,
          10,
          12,
          14,
          6,
          6,
          10,
          14,
          10,
          6,
          6,
          6,
          8,
          6,
          8,
          10,
          12,
          6,
          12,
          10,
          10,
          6,
          14,
          14,
          14,
          14,
          6,
          10,
          10,
          12,
          6,
          12,
          10,
          8,
          6,
          8,
          6,
          6,
          6,
          10,
          14,
          10,
          6,
          6,
          14,
          12,
          10,
          12,
          14,
          8,
          10,
          8,
          14,
          10,
          14,
          14
         ],
         "xaxis": "x",
         "y": [
          -0.01620226444085061,
          0.2322065648536661,
          -3.9695995267559048,
          4.083355452148663,
          -5.842959829377429,
          0.4493023896905363,
          -1.740594036608991,
          11.761463399364631,
          -2.5060762511548416,
          -5.935240332684715,
          1.6856358100949027,
          5.654441944080381,
          -8.04960785037932,
          -6.005939263219803,
          4.524282758506401,
          13.969405408091536,
          -3.7106982331075273,
          -11.722814834959786,
          -8.166714286427943,
          -8.037115244125989,
          -5.5294558223183925,
          -7.921510228790941,
          -2.5361584292320383,
          4.3850711203734996,
          1.646315407150961,
          -10.359268996847037,
          5.963284792907124,
          2.261186068431659,
          0.1870892065086547,
          -5.865559296771337,
          11.759714476940184,
          13.577319168150117,
          0.11417970498898797,
          0.13587069424035586,
          -3.643923416207807,
          3.976832028781603,
          -1.8746915599450082,
          4.091390628673064,
          2.185222391525609,
          15.190349483898547,
          -5.883680746061855,
          -9.84833319671207,
          -1.9501191681348364,
          2.020299017665083,
          -8.166301626251071,
          -6.044030691466911,
          4.18011136554912,
          13.655789279968593,
          3.767567119795765,
          -4.167739644030362,
          -0.1341979943877143,
          0.02255836956399117,
          6.307771741229971,
          4.430132080141887,
          10.220657689569776,
          15.803477237866046,
          5.694219294200874,
          -5.350638812950911,
          10.063621676375334,
          5.861060106089002,
          7.350125928251939,
          1.9041551287127985,
          19.85151103542358,
          21.977031443142106
         ],
         "yaxis": "y"
        }
       ],
       "layout": {
        "legend": {
         "tracegroupgap": 0
        },
        "margin": {
         "t": 60
        },
        "template": {
         "data": {
          "bar": [
           {
            "error_x": {
             "color": "#2a3f5f"
            },
            "error_y": {
             "color": "#2a3f5f"
            },
            "marker": {
             "line": {
              "color": "#E5ECF6",
              "width": 0.5
             },
             "pattern": {
              "fillmode": "overlay",
              "size": 10,
              "solidity": 0.2
             }
            },
            "type": "bar"
           }
          ],
          "barpolar": [
           {
            "marker": {
             "line": {
              "color": "#E5ECF6",
              "width": 0.5
             },
             "pattern": {
              "fillmode": "overlay",
              "size": 10,
              "solidity": 0.2
             }
            },
            "type": "barpolar"
           }
          ],
          "carpet": [
           {
            "aaxis": {
             "endlinecolor": "#2a3f5f",
             "gridcolor": "white",
             "linecolor": "white",
             "minorgridcolor": "white",
             "startlinecolor": "#2a3f5f"
            },
            "baxis": {
             "endlinecolor": "#2a3f5f",
             "gridcolor": "white",
             "linecolor": "white",
             "minorgridcolor": "white",
             "startlinecolor": "#2a3f5f"
            },
            "type": "carpet"
           }
          ],
          "choropleth": [
           {
            "colorbar": {
             "outlinewidth": 0,
             "ticks": ""
            },
            "type": "choropleth"
           }
          ],
          "contour": [
           {
            "colorbar": {
             "outlinewidth": 0,
             "ticks": ""
            },
            "colorscale": [
             [
              0,
              "#0d0887"
             ],
             [
              0.1111111111111111,
              "#46039f"
             ],
             [
              0.2222222222222222,
              "#7201a8"
             ],
             [
              0.3333333333333333,
              "#9c179e"
             ],
             [
              0.4444444444444444,
              "#bd3786"
             ],
             [
              0.5555555555555556,
              "#d8576b"
             ],
             [
              0.6666666666666666,
              "#ed7953"
             ],
             [
              0.7777777777777778,
              "#fb9f3a"
             ],
             [
              0.8888888888888888,
              "#fdca26"
             ],
             [
              1,
              "#f0f921"
             ]
            ],
            "type": "contour"
           }
          ],
          "contourcarpet": [
           {
            "colorbar": {
             "outlinewidth": 0,
             "ticks": ""
            },
            "type": "contourcarpet"
           }
          ],
          "heatmap": [
           {
            "colorbar": {
             "outlinewidth": 0,
             "ticks": ""
            },
            "colorscale": [
             [
              0,
              "#0d0887"
             ],
             [
              0.1111111111111111,
              "#46039f"
             ],
             [
              0.2222222222222222,
              "#7201a8"
             ],
             [
              0.3333333333333333,
              "#9c179e"
             ],
             [
              0.4444444444444444,
              "#bd3786"
             ],
             [
              0.5555555555555556,
              "#d8576b"
             ],
             [
              0.6666666666666666,
              "#ed7953"
             ],
             [
              0.7777777777777778,
              "#fb9f3a"
             ],
             [
              0.8888888888888888,
              "#fdca26"
             ],
             [
              1,
              "#f0f921"
             ]
            ],
            "type": "heatmap"
           }
          ],
          "heatmapgl": [
           {
            "colorbar": {
             "outlinewidth": 0,
             "ticks": ""
            },
            "colorscale": [
             [
              0,
              "#0d0887"
             ],
             [
              0.1111111111111111,
              "#46039f"
             ],
             [
              0.2222222222222222,
              "#7201a8"
             ],
             [
              0.3333333333333333,
              "#9c179e"
             ],
             [
              0.4444444444444444,
              "#bd3786"
             ],
             [
              0.5555555555555556,
              "#d8576b"
             ],
             [
              0.6666666666666666,
              "#ed7953"
             ],
             [
              0.7777777777777778,
              "#fb9f3a"
             ],
             [
              0.8888888888888888,
              "#fdca26"
             ],
             [
              1,
              "#f0f921"
             ]
            ],
            "type": "heatmapgl"
           }
          ],
          "histogram": [
           {
            "marker": {
             "pattern": {
              "fillmode": "overlay",
              "size": 10,
              "solidity": 0.2
             }
            },
            "type": "histogram"
           }
          ],
          "histogram2d": [
           {
            "colorbar": {
             "outlinewidth": 0,
             "ticks": ""
            },
            "colorscale": [
             [
              0,
              "#0d0887"
             ],
             [
              0.1111111111111111,
              "#46039f"
             ],
             [
              0.2222222222222222,
              "#7201a8"
             ],
             [
              0.3333333333333333,
              "#9c179e"
             ],
             [
              0.4444444444444444,
              "#bd3786"
             ],
             [
              0.5555555555555556,
              "#d8576b"
             ],
             [
              0.6666666666666666,
              "#ed7953"
             ],
             [
              0.7777777777777778,
              "#fb9f3a"
             ],
             [
              0.8888888888888888,
              "#fdca26"
             ],
             [
              1,
              "#f0f921"
             ]
            ],
            "type": "histogram2d"
           }
          ],
          "histogram2dcontour": [
           {
            "colorbar": {
             "outlinewidth": 0,
             "ticks": ""
            },
            "colorscale": [
             [
              0,
              "#0d0887"
             ],
             [
              0.1111111111111111,
              "#46039f"
             ],
             [
              0.2222222222222222,
              "#7201a8"
             ],
             [
              0.3333333333333333,
              "#9c179e"
             ],
             [
              0.4444444444444444,
              "#bd3786"
             ],
             [
              0.5555555555555556,
              "#d8576b"
             ],
             [
              0.6666666666666666,
              "#ed7953"
             ],
             [
              0.7777777777777778,
              "#fb9f3a"
             ],
             [
              0.8888888888888888,
              "#fdca26"
             ],
             [
              1,
              "#f0f921"
             ]
            ],
            "type": "histogram2dcontour"
           }
          ],
          "mesh3d": [
           {
            "colorbar": {
             "outlinewidth": 0,
             "ticks": ""
            },
            "type": "mesh3d"
           }
          ],
          "parcoords": [
           {
            "line": {
             "colorbar": {
              "outlinewidth": 0,
              "ticks": ""
             }
            },
            "type": "parcoords"
           }
          ],
          "pie": [
           {
            "automargin": true,
            "type": "pie"
           }
          ],
          "scatter": [
           {
            "marker": {
             "colorbar": {
              "outlinewidth": 0,
              "ticks": ""
             }
            },
            "type": "scatter"
           }
          ],
          "scatter3d": [
           {
            "line": {
             "colorbar": {
              "outlinewidth": 0,
              "ticks": ""
             }
            },
            "marker": {
             "colorbar": {
              "outlinewidth": 0,
              "ticks": ""
             }
            },
            "type": "scatter3d"
           }
          ],
          "scattercarpet": [
           {
            "marker": {
             "colorbar": {
              "outlinewidth": 0,
              "ticks": ""
             }
            },
            "type": "scattercarpet"
           }
          ],
          "scattergeo": [
           {
            "marker": {
             "colorbar": {
              "outlinewidth": 0,
              "ticks": ""
             }
            },
            "type": "scattergeo"
           }
          ],
          "scattergl": [
           {
            "marker": {
             "colorbar": {
              "outlinewidth": 0,
              "ticks": ""
             }
            },
            "type": "scattergl"
           }
          ],
          "scattermapbox": [
           {
            "marker": {
             "colorbar": {
              "outlinewidth": 0,
              "ticks": ""
             }
            },
            "type": "scattermapbox"
           }
          ],
          "scatterpolar": [
           {
            "marker": {
             "colorbar": {
              "outlinewidth": 0,
              "ticks": ""
             }
            },
            "type": "scatterpolar"
           }
          ],
          "scatterpolargl": [
           {
            "marker": {
             "colorbar": {
              "outlinewidth": 0,
              "ticks": ""
             }
            },
            "type": "scatterpolargl"
           }
          ],
          "scatterternary": [
           {
            "marker": {
             "colorbar": {
              "outlinewidth": 0,
              "ticks": ""
             }
            },
            "type": "scatterternary"
           }
          ],
          "surface": [
           {
            "colorbar": {
             "outlinewidth": 0,
             "ticks": ""
            },
            "colorscale": [
             [
              0,
              "#0d0887"
             ],
             [
              0.1111111111111111,
              "#46039f"
             ],
             [
              0.2222222222222222,
              "#7201a8"
             ],
             [
              0.3333333333333333,
              "#9c179e"
             ],
             [
              0.4444444444444444,
              "#bd3786"
             ],
             [
              0.5555555555555556,
              "#d8576b"
             ],
             [
              0.6666666666666666,
              "#ed7953"
             ],
             [
              0.7777777777777778,
              "#fb9f3a"
             ],
             [
              0.8888888888888888,
              "#fdca26"
             ],
             [
              1,
              "#f0f921"
             ]
            ],
            "type": "surface"
           }
          ],
          "table": [
           {
            "cells": {
             "fill": {
              "color": "#EBF0F8"
             },
             "line": {
              "color": "white"
             }
            },
            "header": {
             "fill": {
              "color": "#C8D4E3"
             },
             "line": {
              "color": "white"
             }
            },
            "type": "table"
           }
          ]
         },
         "layout": {
          "annotationdefaults": {
           "arrowcolor": "#2a3f5f",
           "arrowhead": 0,
           "arrowwidth": 1
          },
          "autotypenumbers": "strict",
          "coloraxis": {
           "colorbar": {
            "outlinewidth": 0,
            "ticks": ""
           }
          },
          "colorscale": {
           "diverging": [
            [
             0,
             "#8e0152"
            ],
            [
             0.1,
             "#c51b7d"
            ],
            [
             0.2,
             "#de77ae"
            ],
            [
             0.3,
             "#f1b6da"
            ],
            [
             0.4,
             "#fde0ef"
            ],
            [
             0.5,
             "#f7f7f7"
            ],
            [
             0.6,
             "#e6f5d0"
            ],
            [
             0.7,
             "#b8e186"
            ],
            [
             0.8,
             "#7fbc41"
            ],
            [
             0.9,
             "#4d9221"
            ],
            [
             1,
             "#276419"
            ]
           ],
           "sequential": [
            [
             0,
             "#0d0887"
            ],
            [
             0.1111111111111111,
             "#46039f"
            ],
            [
             0.2222222222222222,
             "#7201a8"
            ],
            [
             0.3333333333333333,
             "#9c179e"
            ],
            [
             0.4444444444444444,
             "#bd3786"
            ],
            [
             0.5555555555555556,
             "#d8576b"
            ],
            [
             0.6666666666666666,
             "#ed7953"
            ],
            [
             0.7777777777777778,
             "#fb9f3a"
            ],
            [
             0.8888888888888888,
             "#fdca26"
            ],
            [
             1,
             "#f0f921"
            ]
           ],
           "sequentialminus": [
            [
             0,
             "#0d0887"
            ],
            [
             0.1111111111111111,
             "#46039f"
            ],
            [
             0.2222222222222222,
             "#7201a8"
            ],
            [
             0.3333333333333333,
             "#9c179e"
            ],
            [
             0.4444444444444444,
             "#bd3786"
            ],
            [
             0.5555555555555556,
             "#d8576b"
            ],
            [
             0.6666666666666666,
             "#ed7953"
            ],
            [
             0.7777777777777778,
             "#fb9f3a"
            ],
            [
             0.8888888888888888,
             "#fdca26"
            ],
            [
             1,
             "#f0f921"
            ]
           ]
          },
          "colorway": [
           "#636efa",
           "#EF553B",
           "#00cc96",
           "#ab63fa",
           "#FFA15A",
           "#19d3f3",
           "#FF6692",
           "#B6E880",
           "#FF97FF",
           "#FECB52"
          ],
          "font": {
           "color": "#2a3f5f"
          },
          "geo": {
           "bgcolor": "white",
           "lakecolor": "white",
           "landcolor": "#E5ECF6",
           "showlakes": true,
           "showland": true,
           "subunitcolor": "white"
          },
          "hoverlabel": {
           "align": "left"
          },
          "hovermode": "closest",
          "mapbox": {
           "style": "light"
          },
          "paper_bgcolor": "white",
          "plot_bgcolor": "#E5ECF6",
          "polar": {
           "angularaxis": {
            "gridcolor": "white",
            "linecolor": "white",
            "ticks": ""
           },
           "bgcolor": "#E5ECF6",
           "radialaxis": {
            "gridcolor": "white",
            "linecolor": "white",
            "ticks": ""
           }
          },
          "scene": {
           "xaxis": {
            "backgroundcolor": "#E5ECF6",
            "gridcolor": "white",
            "gridwidth": 2,
            "linecolor": "white",
            "showbackground": true,
            "ticks": "",
            "zerolinecolor": "white"
           },
           "yaxis": {
            "backgroundcolor": "#E5ECF6",
            "gridcolor": "white",
            "gridwidth": 2,
            "linecolor": "white",
            "showbackground": true,
            "ticks": "",
            "zerolinecolor": "white"
           },
           "zaxis": {
            "backgroundcolor": "#E5ECF6",
            "gridcolor": "white",
            "gridwidth": 2,
            "linecolor": "white",
            "showbackground": true,
            "ticks": "",
            "zerolinecolor": "white"
           }
          },
          "shapedefaults": {
           "line": {
            "color": "#2a3f5f"
           }
          },
          "ternary": {
           "aaxis": {
            "gridcolor": "white",
            "linecolor": "white",
            "ticks": ""
           },
           "baxis": {
            "gridcolor": "white",
            "linecolor": "white",
            "ticks": ""
           },
           "bgcolor": "#E5ECF6",
           "caxis": {
            "gridcolor": "white",
            "linecolor": "white",
            "ticks": ""
           }
          },
          "title": {
           "x": 0.05
          },
          "xaxis": {
           "automargin": true,
           "gridcolor": "white",
           "linecolor": "white",
           "ticks": "",
           "title": {
            "standoff": 15
           },
           "zerolinecolor": "white",
           "zerolinewidth": 2
          },
          "yaxis": {
           "automargin": true,
           "gridcolor": "white",
           "linecolor": "white",
           "ticks": "",
           "title": {
            "standoff": 15
           },
           "zerolinecolor": "white",
           "zerolinewidth": 2
          }
         }
        },
        "xaxis": {
         "anchor": "y",
         "domain": [
          0,
          1
         ],
         "title": {
          "text": "x"
         }
        },
        "yaxis": {
         "anchor": "x",
         "domain": [
          0,
          1
         ],
         "title": {
          "text": "y"
         }
        }
       }
      },
      "text/html": [
       "<div>                            <div id=\"181af29d-21da-4868-894a-b8cb3b98a83c\" class=\"plotly-graph-div\" style=\"height:525px; width:100%;\"></div>            <script type=\"text/javascript\">                require([\"plotly\"], function(Plotly) {                    window.PLOTLYENV=window.PLOTLYENV || {};                                    if (document.getElementById(\"181af29d-21da-4868-894a-b8cb3b98a83c\")) {                    Plotly.newPlot(                        \"181af29d-21da-4868-894a-b8cb3b98a83c\",                        [{\"customdata\":[[[0,0,0,0,0,0]],[[0,0,0,0,0,1]],[[0,0,0,0,1,0]],[[0,0,0,0,1,1]],[[0,0,0,1,0,0]],[[0,0,0,1,0,1]],[[0,0,0,1,1,0]],[[0,0,0,1,1,1]],[[0,0,1,0,0,0]],[[0,0,1,0,0,1]],[[0,0,1,0,1,0]],[[0,0,1,0,1,1]],[[0,0,1,1,0,0]],[[0,0,1,1,0,1]],[[0,0,1,1,1,0]],[[0,0,1,1,1,1]],[[0,1,0,0,0,0]],[[0,1,0,0,0,1]],[[0,1,0,0,1,0]],[[0,1,0,0,1,1]],[[0,1,0,1,0,0]],[[0,1,0,1,0,1]],[[0,1,0,1,1,0]],[[0,1,0,1,1,1]],[[0,1,1,0,0,0]],[[0,1,1,0,0,1]],[[0,1,1,0,1,0]],[[0,1,1,0,1,1]],[[0,1,1,1,0,0]],[[0,1,1,1,0,1]],[[0,1,1,1,1,0]],[[0,1,1,1,1,1]],[[1,0,0,0,0,0]],[[1,0,0,0,0,1]],[[1,0,0,0,1,0]],[[1,0,0,0,1,1]],[[1,0,0,1,0,0]],[[1,0,0,1,0,1]],[[1,0,0,1,1,0]],[[1,0,0,1,1,1]],[[1,0,1,0,0,0]],[[1,0,1,0,0,1]],[[1,0,1,0,1,0]],[[1,0,1,0,1,1]],[[1,0,1,1,0,0]],[[1,0,1,1,0,1]],[[1,0,1,1,1,0]],[[1,0,1,1,1,1]],[[1,1,0,0,0,0]],[[1,1,0,0,0,1]],[[1,1,0,0,1,0]],[[1,1,0,0,1,1]],[[1,1,0,1,0,0]],[[1,1,0,1,0,1]],[[1,1,0,1,1,0]],[[1,1,0,1,1,1]],[[1,1,1,0,0,0]],[[1,1,1,0,0,1]],[[1,1,1,0,1,0]],[[1,1,1,0,1,1]],[[1,1,1,1,0,0]],[[1,1,1,1,0,1]],[[1,1,1,1,1,0]],[[1,1,1,1,1,1]]],\"hovertemplate\":\"x=%{x}<br>y=%{y}<br>hover_data_0=%{customdata[0]}<extra></extra>\",\"legendgroup\":\"\",\"marker\":{\"color\":\"#636efa\",\"symbol\":\"circle\"},\"mode\":\"markers\",\"name\":\"\",\"orientation\":\"v\",\"showlegend\":false,\"x\":[14,14,10,14,8,10,8,14,12,10,12,14,6,6,10,14,10,6,6,6,8,6,8,10,12,6,12,10,10,6,14,14,14,14,6,10,10,12,6,12,10,8,6,8,6,6,6,10,14,10,6,6,14,12,10,12,14,8,10,8,14,10,14,14],\"xaxis\":\"x\",\"y\":[-0.01620226444085061,0.2322065648536661,-3.9695995267559048,4.083355452148663,-5.842959829377429,0.4493023896905363,-1.740594036608991,11.761463399364631,-2.5060762511548416,-5.935240332684715,1.6856358100949027,5.654441944080381,-8.04960785037932,-6.005939263219803,4.524282758506401,13.969405408091536,-3.7106982331075273,-11.722814834959786,-8.166714286427943,-8.037115244125989,-5.5294558223183925,-7.921510228790941,-2.5361584292320383,4.3850711203734996,1.646315407150961,-10.359268996847037,5.963284792907124,2.261186068431659,0.1870892065086547,-5.865559296771337,11.759714476940184,13.577319168150117,0.11417970498898797,0.13587069424035586,-3.643923416207807,3.976832028781603,-1.8746915599450082,4.091390628673064,2.185222391525609,15.190349483898547,-5.883680746061855,-9.84833319671207,-1.9501191681348364,2.020299017665083,-8.166301626251071,-6.044030691466911,4.18011136554912,13.655789279968593,3.767567119795765,-4.167739644030362,-0.1341979943877143,0.02255836956399117,6.307771741229971,4.430132080141887,10.220657689569776,15.803477237866046,5.694219294200874,-5.350638812950911,10.063621676375334,5.861060106089002,7.350125928251939,1.9041551287127985,19.85151103542358,21.977031443142106],\"yaxis\":\"y\",\"type\":\"scatter\"}],                        {\"template\":{\"data\":{\"bar\":[{\"error_x\":{\"color\":\"#2a3f5f\"},\"error_y\":{\"color\":\"#2a3f5f\"},\"marker\":{\"line\":{\"color\":\"#E5ECF6\",\"width\":0.5},\"pattern\":{\"fillmode\":\"overlay\",\"size\":10,\"solidity\":0.2}},\"type\":\"bar\"}],\"barpolar\":[{\"marker\":{\"line\":{\"color\":\"#E5ECF6\",\"width\":0.5},\"pattern\":{\"fillmode\":\"overlay\",\"size\":10,\"solidity\":0.2}},\"type\":\"barpolar\"}],\"carpet\":[{\"aaxis\":{\"endlinecolor\":\"#2a3f5f\",\"gridcolor\":\"white\",\"linecolor\":\"white\",\"minorgridcolor\":\"white\",\"startlinecolor\":\"#2a3f5f\"},\"baxis\":{\"endlinecolor\":\"#2a3f5f\",\"gridcolor\":\"white\",\"linecolor\":\"white\",\"minorgridcolor\":\"white\",\"startlinecolor\":\"#2a3f5f\"},\"type\":\"carpet\"}],\"choropleth\":[{\"colorbar\":{\"outlinewidth\":0,\"ticks\":\"\"},\"type\":\"choropleth\"}],\"contour\":[{\"colorbar\":{\"outlinewidth\":0,\"ticks\":\"\"},\"colorscale\":[[0.0,\"#0d0887\"],[0.1111111111111111,\"#46039f\"],[0.2222222222222222,\"#7201a8\"],[0.3333333333333333,\"#9c179e\"],[0.4444444444444444,\"#bd3786\"],[0.5555555555555556,\"#d8576b\"],[0.6666666666666666,\"#ed7953\"],[0.7777777777777778,\"#fb9f3a\"],[0.8888888888888888,\"#fdca26\"],[1.0,\"#f0f921\"]],\"type\":\"contour\"}],\"contourcarpet\":[{\"colorbar\":{\"outlinewidth\":0,\"ticks\":\"\"},\"type\":\"contourcarpet\"}],\"heatmap\":[{\"colorbar\":{\"outlinewidth\":0,\"ticks\":\"\"},\"colorscale\":[[0.0,\"#0d0887\"],[0.1111111111111111,\"#46039f\"],[0.2222222222222222,\"#7201a8\"],[0.3333333333333333,\"#9c179e\"],[0.4444444444444444,\"#bd3786\"],[0.5555555555555556,\"#d8576b\"],[0.6666666666666666,\"#ed7953\"],[0.7777777777777778,\"#fb9f3a\"],[0.8888888888888888,\"#fdca26\"],[1.0,\"#f0f921\"]],\"type\":\"heatmap\"}],\"heatmapgl\":[{\"colorbar\":{\"outlinewidth\":0,\"ticks\":\"\"},\"colorscale\":[[0.0,\"#0d0887\"],[0.1111111111111111,\"#46039f\"],[0.2222222222222222,\"#7201a8\"],[0.3333333333333333,\"#9c179e\"],[0.4444444444444444,\"#bd3786\"],[0.5555555555555556,\"#d8576b\"],[0.6666666666666666,\"#ed7953\"],[0.7777777777777778,\"#fb9f3a\"],[0.8888888888888888,\"#fdca26\"],[1.0,\"#f0f921\"]],\"type\":\"heatmapgl\"}],\"histogram\":[{\"marker\":{\"pattern\":{\"fillmode\":\"overlay\",\"size\":10,\"solidity\":0.2}},\"type\":\"histogram\"}],\"histogram2d\":[{\"colorbar\":{\"outlinewidth\":0,\"ticks\":\"\"},\"colorscale\":[[0.0,\"#0d0887\"],[0.1111111111111111,\"#46039f\"],[0.2222222222222222,\"#7201a8\"],[0.3333333333333333,\"#9c179e\"],[0.4444444444444444,\"#bd3786\"],[0.5555555555555556,\"#d8576b\"],[0.6666666666666666,\"#ed7953\"],[0.7777777777777778,\"#fb9f3a\"],[0.8888888888888888,\"#fdca26\"],[1.0,\"#f0f921\"]],\"type\":\"histogram2d\"}],\"histogram2dcontour\":[{\"colorbar\":{\"outlinewidth\":0,\"ticks\":\"\"},\"colorscale\":[[0.0,\"#0d0887\"],[0.1111111111111111,\"#46039f\"],[0.2222222222222222,\"#7201a8\"],[0.3333333333333333,\"#9c179e\"],[0.4444444444444444,\"#bd3786\"],[0.5555555555555556,\"#d8576b\"],[0.6666666666666666,\"#ed7953\"],[0.7777777777777778,\"#fb9f3a\"],[0.8888888888888888,\"#fdca26\"],[1.0,\"#f0f921\"]],\"type\":\"histogram2dcontour\"}],\"mesh3d\":[{\"colorbar\":{\"outlinewidth\":0,\"ticks\":\"\"},\"type\":\"mesh3d\"}],\"parcoords\":[{\"line\":{\"colorbar\":{\"outlinewidth\":0,\"ticks\":\"\"}},\"type\":\"parcoords\"}],\"pie\":[{\"automargin\":true,\"type\":\"pie\"}],\"scatter\":[{\"marker\":{\"colorbar\":{\"outlinewidth\":0,\"ticks\":\"\"}},\"type\":\"scatter\"}],\"scatter3d\":[{\"line\":{\"colorbar\":{\"outlinewidth\":0,\"ticks\":\"\"}},\"marker\":{\"colorbar\":{\"outlinewidth\":0,\"ticks\":\"\"}},\"type\":\"scatter3d\"}],\"scattercarpet\":[{\"marker\":{\"colorbar\":{\"outlinewidth\":0,\"ticks\":\"\"}},\"type\":\"scattercarpet\"}],\"scattergeo\":[{\"marker\":{\"colorbar\":{\"outlinewidth\":0,\"ticks\":\"\"}},\"type\":\"scattergeo\"}],\"scattergl\":[{\"marker\":{\"colorbar\":{\"outlinewidth\":0,\"ticks\":\"\"}},\"type\":\"scattergl\"}],\"scattermapbox\":[{\"marker\":{\"colorbar\":{\"outlinewidth\":0,\"ticks\":\"\"}},\"type\":\"scattermapbox\"}],\"scatterpolar\":[{\"marker\":{\"colorbar\":{\"outlinewidth\":0,\"ticks\":\"\"}},\"type\":\"scatterpolar\"}],\"scatterpolargl\":[{\"marker\":{\"colorbar\":{\"outlinewidth\":0,\"ticks\":\"\"}},\"type\":\"scatterpolargl\"}],\"scatterternary\":[{\"marker\":{\"colorbar\":{\"outlinewidth\":0,\"ticks\":\"\"}},\"type\":\"scatterternary\"}],\"surface\":[{\"colorbar\":{\"outlinewidth\":0,\"ticks\":\"\"},\"colorscale\":[[0.0,\"#0d0887\"],[0.1111111111111111,\"#46039f\"],[0.2222222222222222,\"#7201a8\"],[0.3333333333333333,\"#9c179e\"],[0.4444444444444444,\"#bd3786\"],[0.5555555555555556,\"#d8576b\"],[0.6666666666666666,\"#ed7953\"],[0.7777777777777778,\"#fb9f3a\"],[0.8888888888888888,\"#fdca26\"],[1.0,\"#f0f921\"]],\"type\":\"surface\"}],\"table\":[{\"cells\":{\"fill\":{\"color\":\"#EBF0F8\"},\"line\":{\"color\":\"white\"}},\"header\":{\"fill\":{\"color\":\"#C8D4E3\"},\"line\":{\"color\":\"white\"}},\"type\":\"table\"}]},\"layout\":{\"annotationdefaults\":{\"arrowcolor\":\"#2a3f5f\",\"arrowhead\":0,\"arrowwidth\":1},\"autotypenumbers\":\"strict\",\"coloraxis\":{\"colorbar\":{\"outlinewidth\":0,\"ticks\":\"\"}},\"colorscale\":{\"diverging\":[[0,\"#8e0152\"],[0.1,\"#c51b7d\"],[0.2,\"#de77ae\"],[0.3,\"#f1b6da\"],[0.4,\"#fde0ef\"],[0.5,\"#f7f7f7\"],[0.6,\"#e6f5d0\"],[0.7,\"#b8e186\"],[0.8,\"#7fbc41\"],[0.9,\"#4d9221\"],[1,\"#276419\"]],\"sequential\":[[0.0,\"#0d0887\"],[0.1111111111111111,\"#46039f\"],[0.2222222222222222,\"#7201a8\"],[0.3333333333333333,\"#9c179e\"],[0.4444444444444444,\"#bd3786\"],[0.5555555555555556,\"#d8576b\"],[0.6666666666666666,\"#ed7953\"],[0.7777777777777778,\"#fb9f3a\"],[0.8888888888888888,\"#fdca26\"],[1.0,\"#f0f921\"]],\"sequentialminus\":[[0.0,\"#0d0887\"],[0.1111111111111111,\"#46039f\"],[0.2222222222222222,\"#7201a8\"],[0.3333333333333333,\"#9c179e\"],[0.4444444444444444,\"#bd3786\"],[0.5555555555555556,\"#d8576b\"],[0.6666666666666666,\"#ed7953\"],[0.7777777777777778,\"#fb9f3a\"],[0.8888888888888888,\"#fdca26\"],[1.0,\"#f0f921\"]]},\"colorway\":[\"#636efa\",\"#EF553B\",\"#00cc96\",\"#ab63fa\",\"#FFA15A\",\"#19d3f3\",\"#FF6692\",\"#B6E880\",\"#FF97FF\",\"#FECB52\"],\"font\":{\"color\":\"#2a3f5f\"},\"geo\":{\"bgcolor\":\"white\",\"lakecolor\":\"white\",\"landcolor\":\"#E5ECF6\",\"showlakes\":true,\"showland\":true,\"subunitcolor\":\"white\"},\"hoverlabel\":{\"align\":\"left\"},\"hovermode\":\"closest\",\"mapbox\":{\"style\":\"light\"},\"paper_bgcolor\":\"white\",\"plot_bgcolor\":\"#E5ECF6\",\"polar\":{\"angularaxis\":{\"gridcolor\":\"white\",\"linecolor\":\"white\",\"ticks\":\"\"},\"bgcolor\":\"#E5ECF6\",\"radialaxis\":{\"gridcolor\":\"white\",\"linecolor\":\"white\",\"ticks\":\"\"}},\"scene\":{\"xaxis\":{\"backgroundcolor\":\"#E5ECF6\",\"gridcolor\":\"white\",\"gridwidth\":2,\"linecolor\":\"white\",\"showbackground\":true,\"ticks\":\"\",\"zerolinecolor\":\"white\"},\"yaxis\":{\"backgroundcolor\":\"#E5ECF6\",\"gridcolor\":\"white\",\"gridwidth\":2,\"linecolor\":\"white\",\"showbackground\":true,\"ticks\":\"\",\"zerolinecolor\":\"white\"},\"zaxis\":{\"backgroundcolor\":\"#E5ECF6\",\"gridcolor\":\"white\",\"gridwidth\":2,\"linecolor\":\"white\",\"showbackground\":true,\"ticks\":\"\",\"zerolinecolor\":\"white\"}},\"shapedefaults\":{\"line\":{\"color\":\"#2a3f5f\"}},\"ternary\":{\"aaxis\":{\"gridcolor\":\"white\",\"linecolor\":\"white\",\"ticks\":\"\"},\"baxis\":{\"gridcolor\":\"white\",\"linecolor\":\"white\",\"ticks\":\"\"},\"bgcolor\":\"#E5ECF6\",\"caxis\":{\"gridcolor\":\"white\",\"linecolor\":\"white\",\"ticks\":\"\"}},\"title\":{\"x\":0.05},\"xaxis\":{\"automargin\":true,\"gridcolor\":\"white\",\"linecolor\":\"white\",\"ticks\":\"\",\"title\":{\"standoff\":15},\"zerolinecolor\":\"white\",\"zerolinewidth\":2},\"yaxis\":{\"automargin\":true,\"gridcolor\":\"white\",\"linecolor\":\"white\",\"ticks\":\"\",\"title\":{\"standoff\":15},\"zerolinecolor\":\"white\",\"zerolinewidth\":2}}},\"xaxis\":{\"anchor\":\"y\",\"domain\":[0.0,1.0],\"title\":{\"text\":\"x\"}},\"yaxis\":{\"anchor\":\"x\",\"domain\":[0.0,1.0],\"title\":{\"text\":\"y\"}},\"legend\":{\"tracegroupgap\":0},\"margin\":{\"t\":60}},                        {\"responsive\": true}                    ).then(function(){\n",
       "                            \n",
       "var gd = document.getElementById('181af29d-21da-4868-894a-b8cb3b98a83c');\n",
       "var x = new MutationObserver(function (mutations, observer) {{\n",
       "        var display = window.getComputedStyle(gd).display;\n",
       "        if (!display || display === 'none') {{\n",
       "            console.log([gd, 'removed!']);\n",
       "            Plotly.purge(gd);\n",
       "            observer.disconnect();\n",
       "        }}\n",
       "}});\n",
       "\n",
       "// Listen for the removal of the full notebook cells\n",
       "var notebookContainer = gd.closest('#notebook-container');\n",
       "if (notebookContainer) {{\n",
       "    x.observe(notebookContainer, {childList: true});\n",
       "}}\n",
       "\n",
       "// Listen for the clearing of the current output cell\n",
       "var outputEl = gd.closest('.output');\n",
       "if (outputEl) {{\n",
       "    x.observe(outputEl, {childList: true});\n",
       "}}\n",
       "\n",
       "                        })                };                });            </script>        </div>"
      ]
     },
     "metadata": {},
     "output_type": "display_data"
    }
   ],
   "source": [
    "import plotly.express as px\n",
    "\n",
    "fig = px.scatter(x = breaks_list, \n",
    "            y = np.array(values) + 0.3 * np.random.normal(size = np.array(values).shape),\n",
    "            hover_data = [bitstrings])\n",
    "\n",
    "fig.write_html(\"/home/user/mnt/project/src/px_break_energy_diagram.html\")\n",
    "fig"
   ]
  },
  {
   "cell_type": "code",
   "execution_count": 1,
   "metadata": {},
   "outputs": [
    {
     "ename": "NameError",
     "evalue": "name 'breaks_list' is not defined",
     "output_type": "error",
     "traceback": [
      "\u001b[0;31m---------------------------------------------------------------------------\u001b[0m",
      "\u001b[0;31mNameError\u001b[0m                                 Traceback (most recent call last)",
      "\u001b[1;32m/home/user/mnt/project/src/main.ipynb Cell 24'\u001b[0m in \u001b[0;36m<cell line: 3>\u001b[0;34m()\u001b[0m\n\u001b[1;32m      <a href='vscode-notebook-cell://attached-container%2B7b22636f6e7461696e65724e616d65223a222f65616765725f72696465227d/home/user/mnt/project/src/main.ipynb#ch0000023vscode-remote?line=0'>1</a>\u001b[0m \u001b[39mimport\u001b[39;00m \u001b[39mpandas\u001b[39;00m \u001b[39mas\u001b[39;00m \u001b[39mpd\u001b[39;00m\n\u001b[0;32m----> <a href='vscode-notebook-cell://attached-container%2B7b22636f6e7461696e65724e616d65223a222f65616765725f72696465227d/home/user/mnt/project/src/main.ipynb#ch0000023vscode-remote?line=2'>3</a>\u001b[0m pd\u001b[39m.\u001b[39mDataFrame( {\u001b[39m\"\u001b[39m\u001b[39mbreaks\u001b[39m\u001b[39m\"\u001b[39m: breaks_list, \u001b[39m\"\u001b[39m\u001b[39mE\u001b[39m\u001b[39m\"\u001b[39m: values} )\u001b[39m.\u001b[39mgroupby(\u001b[39m\"\u001b[39m\u001b[39mbreaks\u001b[39m\u001b[39m\"\u001b[39m)\u001b[39m.\u001b[39mmean()\n",
      "\u001b[0;31mNameError\u001b[0m: name 'breaks_list' is not defined"
     ]
    }
   ],
   "source": [
    "import pandas as pd\n",
    "\n",
    "pd.DataFrame( {\"breaks\": breaks_list, \"E\": values} ).groupby(\"breaks\").mean()"
   ]
  },
  {
   "cell_type": "code",
   "execution_count": null,
   "metadata": {},
   "outputs": [],
   "source": []
  },
  {
   "cell_type": "markdown",
   "metadata": {},
   "source": [
    "# Max cut"
   ]
  },
  {
   "cell_type": "code",
   "execution_count": 25,
   "metadata": {},
   "outputs": [],
   "source": [
    "adjacency_matrix = np.array([[0,1,1,0,0],\n",
    "                             [1,0,0,1,0],\n",
    "                             [1,0,0,1,1],\n",
    "                             [0,1,1,0,1],\n",
    "                             [0,0,1,1,0]])\n",
    "\n",
    "def max_cut_qubo(A):\n",
    "    for i in range( A.shape[0] ):\n",
    "        degree = sum(A[i,:])\n",
    "        A[i, i] = - degree\n",
    "    return A"
   ]
  },
  {
   "cell_type": "code",
   "execution_count": 26,
   "metadata": {},
   "outputs": [
    {
     "data": {
      "text/plain": [
       "array([[-2,  1,  1,  0,  0],\n",
       "       [ 1, -2,  0,  1,  0],\n",
       "       [ 1,  0, -3,  1,  1],\n",
       "       [ 0,  1,  1, -3,  1],\n",
       "       [ 0,  0,  1,  1, -2]])"
      ]
     },
     "execution_count": 26,
     "metadata": {},
     "output_type": "execute_result"
    }
   ],
   "source": [
    "Q = max_cut_qubo(adjacency_matrix)\n",
    "Q"
   ]
  },
  {
   "cell_type": "code",
   "execution_count": 35,
   "metadata": {},
   "outputs": [
    {
     "data": {
      "text/plain": [
       "(-5, array([0, 1, 1, 0, 0]))"
      ]
     },
     "execution_count": 35,
     "metadata": {},
     "output_type": "execute_result"
    }
   ],
   "source": [
    "calculate_QUBO_explicitely(Q)"
   ]
  },
  {
   "cell_type": "markdown",
   "metadata": {},
   "source": [
    "Peter Rakyta\n",
    "15:10\n",
    "157.181.172.79\n",
    "Peter Rakyta\n",
    "15:16\n",
    "conda env create -f environment.yml\n",
    "Peter Rakyta\n",
    "15:17\n",
    "source .bashrc\n",
    "rb_bs2\n",
    "Peter Rakyta\n",
    "15:18\n",
    "rp_bs2\n",
    "Peter Rakyta\n",
    "15:25\n",
    "export PIQUASSOBOOST_DFE=1\n",
    "python setup.py build_ext\n",
    "Peter Rakyta\n",
    "15:28\n",
    "export LD_LIBRARY_PATH=$LD_LIBRARY_PATH:/opt/DFE/\n",
    ".bashrc\n",
    "Peter Rakyta\n",
    "15:32\n",
    "hwloc-bind --membind node:1 --cpubind node:1 -- python boson_sampling_benchmark.py"
   ]
  },
  {
   "cell_type": "code",
   "execution_count": 27,
   "metadata": {},
   "outputs": [],
   "source": [
    "from time import time"
   ]
  },
  {
   "cell_type": "code",
   "execution_count": 43,
   "metadata": {},
   "outputs": [
    {
     "data": {
      "text/plain": [
       "array([[1, 1, 0, 0, 1, 1, 1, 0, 0, 0],\n",
       "       [1, 0, 1, 1, 0, 1, 1, 0, 1, 0],\n",
       "       [0, 1, 0, 0, 1, 1, 1, 0, 0, 0],\n",
       "       [1, 1, 1, 0, 0, 0, 1, 1, 0, 0],\n",
       "       [1, 0, 1, 0, 1, 1, 1, 1, 0, 0],\n",
       "       [0, 1, 0, 0, 1, 0, 0, 0, 1, 1],\n",
       "       [1, 0, 1, 0, 1, 0, 1, 1, 0, 1],\n",
       "       [1, 1, 1, 0, 0, 0, 1, 1, 1, 1],\n",
       "       [0, 1, 1, 0, 1, 0, 0, 0, 0, 0],\n",
       "       [1, 1, 1, 1, 1, 1, 0, 1, 0, 1]])"
      ]
     },
     "execution_count": 43,
     "metadata": {},
     "output_type": "execute_result"
    }
   ],
   "source": [
    "G = networkx.barabasi_albert_graph(node_number, initial_nodes)"
   ]
  },
  {
   "cell_type": "code",
   "execution_count": 37,
   "metadata": {},
   "outputs": [
    {
     "name": "stdout",
     "output_type": "stream",
     "text": [
      "parity: 0\n",
      "parity: 1\n"
     ]
    },
    {
     "data": {
      "image/png": "[encoded data removed]",
      "text/plain": [
       "<Figure size 432x288 with 1 Axes>"
      ]
     },
     "metadata": {
      "needs_background": "light"
     },
     "output_type": "display_data"
    },
    {
     "name": "stdout",
     "output_type": "stream",
     "text": [
      "parity: 0\n",
      "parity: 1\n"
     ]
    },
    {
     "data": {
      "image/png": "[encoded data removed]",
      "text/plain": [
       "<Figure size 432x288 with 1 Axes>"
      ]
     },
     "metadata": {
      "needs_background": "light"
     },
     "output_type": "display_data"
    },
    {
     "name": "stdout",
     "output_type": "stream",
     "text": [
      "parity: 0\n",
      "parity: 1\n"
     ]
    },
    {
     "data": {
      "image/png": "[encoded data removed]",
      "text/plain": [
       "<Figure size 432x288 with 1 Axes>"
      ]
     },
     "metadata": {
      "needs_background": "light"
     },
     "output_type": "display_data"
    },
    {
     "name": "stdout",
     "output_type": "stream",
     "text": [
      "parity: 0\n",
      "parity: 1\n"
     ]
    },
    {
     "data": {
      "image/png": "[encoded data removed]",
      "text/plain": [
       "<Figure size 432x288 with 1 Axes>"
      ]
     },
     "metadata": {
      "needs_background": "light"
     },
     "output_type": "display_data"
    },
    {
     "name": "stdout",
     "output_type": "stream",
     "text": [
      "parity: 0\n",
      "parity: 1\n"
     ]
    },
    {
     "data": {
      "image/png": "[encoded data removed]",
      "text/plain": [
       "<Figure size 432x288 with 1 Axes>"
      ]
     },
     "metadata": {
      "needs_background": "light"
     },
     "output_type": "display_data"
    },
    {
     "name": "stdout",
     "output_type": "stream",
     "text": [
      "parity: 0\n",
      "parity: 1\n"
     ]
    },
    {
     "data": {
      "image/png": "[encoded data removed]",
      "text/plain": [
       "<Figure size 432x288 with 1 Axes>"
      ]
     },
     "metadata": {
      "needs_background": "light"
     },
     "output_type": "display_data"
    },
    {
     "name": "stdout",
     "output_type": "stream",
     "text": [
      "parity: 0\n",
      "parity: 1\n"
     ]
    },
    {
     "data": {
      "image/png": "[encoded data removed]",
      "text/plain": [
       "<Figure size 432x288 with 1 Axes>"
      ]
     },
     "metadata": {
      "needs_background": "light"
     },
     "output_type": "display_data"
    },
    {
     "name": "stdout",
     "output_type": "stream",
     "text": [
      "parity: 0\n",
      "parity: 1\n"
     ]
    },
    {
     "data": {
      "image/png": "[encoded data removed]",
      "text/plain": [
       "<Figure size 432x288 with 1 Axes>"
      ]
     },
     "metadata": {
      "needs_background": "light"
     },
     "output_type": "display_data"
    },
    {
     "name": "stdout",
     "output_type": "stream",
     "text": [
      "parity: 0\n",
      "parity: 1\n"
     ]
    },
    {
     "data": {
      "image/png": "[encoded data removed]",
      "text/plain": [
       "<Figure size 432x288 with 1 Axes>"
      ]
     },
     "metadata": {
      "needs_background": "light"
     },
     "output_type": "display_data"
    },
    {
     "name": "stdout",
     "output_type": "stream",
     "text": [
      "parity: 0\n",
      "parity: 1\n"
     ]
    },
    {
     "data": {
      "image/png": "[encoded data removed]",
      "text/plain": [
       "<Figure size 432x288 with 1 Axes>"
      ]
     },
     "metadata": {
      "needs_background": "light"
     },
     "output_type": "display_data"
    },
    {
     "name": "stdout",
     "output_type": "stream",
     "text": [
      "parity: 0\n",
      "parity: 1\n"
     ]
    },
    {
     "data": {
      "image/png": "[encoded data removed]",
      "text/plain": [
       "<Figure size 432x288 with 1 Axes>"
      ]
     },
     "metadata": {
      "needs_background": "light"
     },
     "output_type": "display_data"
    },
    {
     "name": "stdout",
     "output_type": "stream",
     "text": [
      "parity: 0\n",
      "parity: 1\n"
     ]
    },
    {
     "data": {
      "image/png": "[encoded data removed]",
      "text/plain": [
       "<Figure size 432x288 with 1 Axes>"
      ]
     },
     "metadata": {
      "needs_background": "light"
     },
     "output_type": "display_data"
    },
    {
     "name": "stdout",
     "output_type": "stream",
     "text": [
      "parity: 0\n",
      "parity: 1\n"
     ]
    },
    {
     "data": {
      "image/png": "[encoded data removed]",
      "text/plain": [
       "<Figure size 432x288 with 1 Axes>"
      ]
     },
     "metadata": {
      "needs_background": "light"
     },
     "output_type": "display_data"
    }
   ],
   "source": [
    "\n",
    "\n",
    "shot_list = [10, 20, 20, 30, 40, 50, 60, 70, 80, 90, 100, 500, 1000]\n",
    "times = []\n",
    "energies = []\n",
    "bs = []\n",
    "\n",
    "for shot in shot_list:\n",
    "    t1 = time()\n",
    "    min_energy, min_bitstring = solve_qubo_by_dividing( Q,\n",
    "    learning_rate = 0.01,\n",
    "        shots = shot,\n",
    "        updates = 10,\n",
    "        d_per_computer= Q.shape[0]\n",
    "    )\n",
    "    times.append(time() - t1)\n",
    "    energies.append(min_energy)\n",
    "    bs.append(min_bitstring)"
   ]
  },
  {
   "cell_type": "code",
   "execution_count": 34,
   "metadata": {},
   "outputs": [
    {
     "data": {
      "text/plain": [
       "[-5, -5, -5, -5, -5, -5, -5, -5, -5, -5, -5, -5, -5]"
      ]
     },
     "execution_count": 34,
     "metadata": {},
     "output_type": "execute_result"
    }
   ],
   "source": [
    "#plt.plot(shot_list, energies)\n",
    "energies"
   ]
  },
  {
   "cell_type": "code",
   "execution_count": 38,
   "metadata": {},
   "outputs": [
    {
     "data": {
      "text/plain": [
       "[[0, 1, 1, 0, 1],\n",
       " [1, 0, 0, 1, 1],\n",
       " [1, 0, 0, 1, 1],\n",
       " [1, 0, 0, 1, 1],\n",
       " [0, 1, 1, 0, 1],\n",
       " [0, 1, 1, 0, 1],\n",
       " [0, 1, 1, 0, 1],\n",
       " [1, 0, 0, 1, 1],\n",
       " [0, 1, 1, 0, 1],\n",
       " [1, 0, 0, 1, 1],\n",
       " [0, 1, 1, 0, 1],\n",
       " [0, 1, 1, 0, 1],\n",
       " [1, 0, 0, 1, 1]]"
      ]
     },
     "execution_count": 38,
     "metadata": {},
     "output_type": "execute_result"
    }
   ],
   "source": [
    "bs"
   ]
  }
 ],
 "metadata": {
  "interpreter": {
   "hash": "2f394aca7ca06fed1e6064aef884364492d7cdda3614a461e02e6407fc40ba69"
  },
  "kernelspec": {
   "display_name": "Python 3.9.7 ('base')",
   "language": "python",
   "name": "python3"
  },
  "language_info": {
   "codemirror_mode": {
    "name": "ipython",
    "version": 3
   },
   "file_extension": ".py",
   "mimetype": "text/x-python",
   "name": "python",
   "nbconvert_exporter": "python",
   "pygments_lexer": "ipython3",
   "version": "3.8.5"
  },
  "orig_nbformat": 4
 },
 "nbformat": 4,
 "nbformat_minor": 2
}
